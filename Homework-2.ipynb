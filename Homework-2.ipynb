{
 "cells": [
  {
   "cell_type": "markdown",
   "metadata": {},
   "source": [
    "## Assignment 2\n",
    "\n",
    "                                                                                                                                                                     2013136068 양희혜\n",
    "\n",
    "### 문제1. 다음 6 개의 Expression에 대해 Evaluation 결과 값을 출력하고, 해당 결과가 나온 이유에 대해 설명하시오\n",
    "  - 1 and 2 and 3 and 4\n",
    "  - 1 or 2 or 3 or 4\n",
    "  - 1 and 2 or 3 and 4\n",
    "  - (1 and 2) or (3 and 4)\n",
    "  - 1 or 2 and 3 or 4\n",
    "  - (1 or 2) and (3 or 4)"
   ]
  },
  {
   "cell_type": "code",
   "execution_count": 1,
   "metadata": {
    "collapsed": false
   },
   "outputs": [
    {
     "name": "stdout",
     "output_type": "stream",
     "text": [
      "4\n",
      "1\n",
      "2\n",
      "2\n",
      "1\n",
      "3\n"
     ]
    }
   ],
   "source": [
    "print 1 and 2 and 3 and 4\n",
    "print 1 or 2 or 3 or 4\n",
    "print 1 and 2 or 3 and 4\n",
    "print (1 and 2) or (3 and 4)\n",
    "print 1 or 2 and 3 or 4\n",
    "print (1 or 2) and (3 or 4)"
   ]
  },
  {
   "cell_type": "markdown",
   "metadata": {},
   "source": [
    "-> 논리 연산자 자체가 값을 반환하지 않고, 논리 연산을 따라 최종적으로 평가되어진 값이 반환됨\n",
    "\n",
    "-> 앞 and 뒤 = 앞, 뒤 모두 evaluate한 결과\n",
    "\n",
    "-> 앞 or 뒤 : 앞이 true 이면 뒤쪽은 볼 것도 없이 true -> or 연산자는 참으로 간주하면 더이상 뒤를 확인하지 않고 참으로 간주\n",
    "\n",
    "ex) 3 or 4 는 # 3을 참으로 간주"
   ]
  },
  {
   "cell_type": "markdown",
   "metadata": {},
   "source": [
    "### 문제2. 키보드로 정수값을 입력 받고 그 값이 양수인지 음수인지를 비트 연산자를 이용하여 판단하는 프로그램을 작성하시오.\n",
    "  - [참고] 가장 왼쪽에 있는 비트가 0이면 양수이며, 1이면 음수이다.\n",
    "  - [참고] 수업보충자료 (https://github.com/bluebibi/python-e-learning/blob/master/supplement.ipynb) 를 참고하시오."
   ]
  },
  {
   "cell_type": "code",
   "execution_count": 2,
   "metadata": {
    "collapsed": false
   },
   "outputs": [
    {
     "name": "stdout",
     "output_type": "stream",
     "text": [
      "num? : -10\n",
      "음수입니다.\n"
     ]
    }
   ],
   "source": [
    "num = int(raw_input('num? : '))\n",
    "if ((abs(num) | num) == abs(num)) :\n",
    "    print u\"양수입니다.\"\n",
    "else :\n",
    "    print u\"음수입니다.\""
   ]
  },
  {
   "cell_type": "markdown",
   "metadata": {},
   "source": [
    "### 문제3. 경로에 해당하는 문자열 1개를 입력 받아 그 안에 디렉토리 경로명과 파일명을 분리하여 리스트로 반환하는 함수 div_path(s)를 작성하시오.\n",
    "  - 인자로 전달하는 문자열은 경로만 들어간다고 가정한다.\n",
    "  - 각 디렉토리와 파일을 구분하는 문자는 '/'로 가정한다.\n",
    "  - 반환하는 리스트의 첫번째 원소는 디렉토리이고 두번째 원소는 파일명이다.\n",
    "  - 다음과 같은 실행 및 출력 결과가 도출되어야 한다.\n",
    "  - div_path('/usr/local/bin/python')\n",
    "  - ['/usr/local/bin', 'python']\n",
    "  - div_path('/home/chulsoo/test.txt')\n",
    "  - ['/home/chulsoo', 'test.txt']\n",
    "  - [참고] 리스트(l) 내에 새로운 정수값 (예를 들어 10)을 넣는 방법은 l.append(10) 이다."
   ]
  },
  {
   "cell_type": "code",
   "execution_count": 82,
   "metadata": {
    "collapsed": false
   },
   "outputs": [
    {
     "data": {
      "text/plain": [
       "['/usr/local/bin', 'python']"
      ]
     },
     "execution_count": 82,
     "metadata": {},
     "output_type": "execute_result"
    }
   ],
   "source": [
    "def  div_path(s):\n",
    "    u = s.split('/')\n",
    "    a= u[:-1]\n",
    "\n",
    "    a = '/'.join(a)\n",
    "\n",
    "    k =u[-1]\n",
    "\n",
    "    l = []\n",
    "    l.append(a)\n",
    "    l.append(k)\n",
    "    \n",
    "    return l\n",
    "\n",
    "div_path('/usr/local/bin/python')"
   ]
  },
  {
   "cell_type": "code",
   "execution_count": 83,
   "metadata": {
    "collapsed": false
   },
   "outputs": [
    {
     "data": {
      "text/plain": [
       "['/home/chulsoo', 'test.txt']"
      ]
     },
     "execution_count": 83,
     "metadata": {},
     "output_type": "execute_result"
    }
   ],
   "source": [
    "div_path('/home/chulsoo/test.txt')"
   ]
  },
  {
   "cell_type": "markdown",
   "metadata": {},
   "source": [
    "###문제4. 두 개의 리스트를 인자로 받아서 그 두 개의 리스트에 대한 '합집합'을 반환하는 함수 list_union(lista, listb)를 작성하시오.\n",
    "  - 인자로 전달하는 리스트 2 개에는 정수값만 들어간다고 가정하자.\n",
    "  - 함수 내에서 새로운 리스트를 만들어 그 리스트 내에 인자로 받은 두 리스트의 모든 원소를 넣어 반환한다.\n",
    "  - 반환하는 리스트에는 절대로 중복된 원소가 들어 있으면 안된다 (집합의 조건).\n",
    "  - 반환하는 리스트는 정렬이 되어 있어야 한다.\n",
    "  - 다음과 같은 실행 및 출력 결과가 도출되어야 한다.\n",
    "  - list_union([1, 2, 3], [1, 2, 4])\n",
    "  - [1, 2, 3, 4]\n",
    "  - list_union([-10, -5, 0, -1], [100, 9, 0, 9])\n",
    "  - [-10, -5, -1, 0, 9, 100]\n",
    "  - list_union([0, 1, 2], [0, 1, 2])\n",
    "  - [0, 1, 2]\n",
    "  - [참고] 리스트(l) 내에 새로운 정수값 (예를 들어 10)을 넣는 방법은 l.append(10) 이다.\n",
    "  - [참고] 임의의 정수값 (x)이 리스트 (l) 내에 존재하는지 판단하는 방법은 x in l 이다."
   ]
  },
  {
   "cell_type": "code",
   "execution_count": 13,
   "metadata": {
    "collapsed": false
   },
   "outputs": [
    {
     "data": {
      "text/plain": [
       "[1, 2, 3, 4]"
      ]
     },
     "execution_count": 13,
     "metadata": {},
     "output_type": "execute_result"
    }
   ],
   "source": [
    "def list_union(lista, listb) :\n",
    "    l = []\n",
    "    l.extend(lista)\n",
    "    \n",
    "    for x in range(0, len(listb)) :\n",
    "        if ((listb[x] in l) == False) :\n",
    "            l.append(listb[x])\n",
    "            \n",
    "    l.sort()\n",
    "    return l\n",
    "\n",
    "list_union([1, 2, 3], [1, 2, 4])"
   ]
  },
  {
   "cell_type": "code",
   "execution_count": 14,
   "metadata": {
    "collapsed": false
   },
   "outputs": [
    {
     "data": {
      "text/plain": [
       "[-10, -5, -1, 0, 9, 100]"
      ]
     },
     "execution_count": 14,
     "metadata": {},
     "output_type": "execute_result"
    }
   ],
   "source": [
    "list_union([-10, -5, 0, -1], [100, 9, 0, 9])"
   ]
  },
  {
   "cell_type": "code",
   "execution_count": 15,
   "metadata": {
    "collapsed": false
   },
   "outputs": [
    {
     "data": {
      "text/plain": [
       "[0, 1, 2]"
      ]
     },
     "execution_count": 15,
     "metadata": {},
     "output_type": "execute_result"
    }
   ],
   "source": [
    "list_union([0, 1, 2], [0, 1, 2])"
   ]
  },
  {
   "cell_type": "markdown",
   "metadata": {},
   "source": [
    "### 프로젝트 오일러 4)\n",
    "  - 앞에서부터 읽을 때나 뒤에서부터 읽을 때나 모양이 같은 수를 대칭수(palindrome)라고 부릅니다. 두 자리 수를 곱해 만들 수 있는 대칭수 중 가장 큰 수는 9009 (= 91 × 99) 입니다. 세 자리 수를 곱해 만들 수 있는 가장 큰 대칭수는 얼마입니까?"
   ]
  },
  {
   "cell_type": "code",
   "execution_count": 8,
   "metadata": {
    "collapsed": false
   },
   "outputs": [
    {
     "name": "stdout",
     "output_type": "stream",
     "text": [
      "906609\n"
     ]
    }
   ],
   "source": [
    "l = []\n",
    "for x in range(100, 1000) :\n",
    "    for y in range(100, 1000):\n",
    "        result = x * y\n",
    "        \n",
    "        result = str(result)\n",
    "        result2 = result[::-1]\n",
    "        if (result2 == result) :\n",
    "            result = int(result)\n",
    "            l.append(result)\n",
    "            l.sort()\n",
    "print l[-1]"
   ]
  },
  {
   "cell_type": "markdown",
   "metadata": {},
   "source": [
    "### 프로젝트 오일러 5)\n",
    "  - 1 ~ 10 사이의 어떤 수로도 나누어 떨어지는 가장 작은 수는 2520입니다. 그러면 1 ~ 20 사이의 어떤 수로도 나누어 떨어지는 가장 작은 수는 얼마입니까?"
   ]
  },
  {
   "cell_type": "code",
   "execution_count": 3,
   "metadata": {
    "collapsed": false
   },
   "outputs": [
    {
     "name": "stdout",
     "output_type": "stream",
     "text": [
      "232792560\n"
     ]
    }
   ],
   "source": [
    "num = 22\n",
    "sum = 0\n",
    "while (1) :\n",
    "    for x in range(3, 21) :\n",
    "        if (num % x != 0) :\n",
    "            num += 2\n",
    "            sum = 0\n",
    "            break\n",
    "        else :\n",
    "            sum += 1\n",
    "            continue\n",
    "    if (sum == 18) :\n",
    "        print num\n",
    "        break"
   ]
  },
  {
   "cell_type": "markdown",
   "metadata": {},
   "source": [
    "### 프로젝트 오일러 6)\n",
    "  - 1부터 10까지 자연수를 각각 제곱해 더하면 다음과 같습니다 (제곱의 합).\n",
    "    1^2 + 2^2 + ... + 10^2 = 385\n",
    "  - 1부터 10을 먼저 더한 다음에 그 결과를 제곱하면 다음과 같습니다 (합의 제곱).    \n",
    "    (1 + 2 + ... + 10)^2 = 55^2 = 3025\n",
    "  - 따라서 1부터 10까지 자연수에 대해 \"합의 제곱\"과 \"제곱의 합\" 의 차이는 3025 - 385 = 2640 이 됩니다.\n",
    "\n",
    "  - 그러면 1부터 100까지 자연수에 대해 \"합의 제곱\"과 \"제곱의 합\"의 차이는 얼마입니까?"
   ]
  },
  {
   "cell_type": "code",
   "execution_count": 5,
   "metadata": {
    "collapsed": false
   },
   "outputs": [
    {
     "name": "stdout",
     "output_type": "stream",
     "text": [
      "25164150\n"
     ]
    }
   ],
   "source": [
    "num = 1\n",
    "sum1 = 0\n",
    "sum2 = 0\n",
    "while (num <= 100) :\n",
    "    sum1 = num * num + sum1\n",
    "    sum2 += num\n",
    "    num += 1\n",
    "sum2 = sum2 * sum2\n",
    "total = sum2 - sum1\n",
    "print total    "
   ]
  },
  {
   "cell_type": "markdown",
   "metadata": {},
   "source": [
    "### [Incremental Project] 웹 URL로 지정된 웹페이지를 문자열로 가져와 1) 모든 HTML 태그를 제외한 순수 텍스트 문자열만을 걸러내고, 2) 그 순수 텍스트 문자열 안에 존재하는 단어가 총 몇개인지 출력하는 프로그램을 작성하시오.\n",
    "  - HTML 태그는 다음 조건을 가지는 것이다.\n",
    "\n",
    "  - < 로 시작하여 >로 끝난다.\n",
    "  - 예를 들어, 아래와 같은 HTML 내용 내에 한 줄이 있다고 가정하자.\n",
    "        <label for=\"keep_signed\">로그인 유지</label>\n",
    "  - 위 소스에서 HTML 태그를 제외한 순수 텍스트 문자열은 아래와 같다.\n",
    "        로그인 유지\n",
    "  - 한편, 아래와 같은 HTML 한 줄이 있다고 가정하자.\n",
    "        <link rel=\"stylesheet\" href=\"/common/css/xe.min.css?20150910092654\" />\n",
    "  - 위 소스는 HTML 태그로만 구성된 것이며 걸러낼 수 있는 순수 텍스 문자열은 존재하지 않는다.\n",
    "  - 단어를 나누는 기준은 오로지 공백문자 (whitespace)이다.\n",
    "\n",
    "  - 즉, 위 순수 텍스트 문자열인 \"로그인 유지\"에서 분리한 단어는 \"로그인\"과 \"유지\"이다.\n",
    "  - 다음은 URL로 지정된 웹페이지를 특정 문자열로 가져오는 코드이다.\n",
    "  - 즉, 숙제 코드는 아래 코드로 부터 시작해야 한다."
   ]
  },
  {
   "cell_type": "code",
   "execution_count": 42,
   "metadata": {
    "collapsed": false
   },
   "outputs": [
    {
     "name": "stdout",
     "output_type": "stream",
     "text": [
      "458\n"
     ]
    }
   ],
   "source": [
    "import urllib2\n",
    "\n",
    "s = urllib2.urlopen(\"http://cse.kut.ac.kr/\").read()\n",
    "\n",
    "a = s.find('<')\n",
    "s = s[a+1:]\n",
    "k = ''\n",
    "c = 0\n",
    "\n",
    "while( c != -1) :\n",
    "    b = s.find('>')\n",
    "    c = s.find('<')\n",
    "    if(c == -1):\n",
    "        k = k + ' ' + s[b+1:]\n",
    "    else:\n",
    "        k = k + ' ' + s[b+1:c]\n",
    "    s = s[c+1:]\n",
    "\n",
    "l = k.split()\n",
    "print len(l)\n"
   ]
  },
  {
   "cell_type": "markdown",
   "metadata": {},
   "source": [
    "### [Incremental Project] 나의 예시"
   ]
  },
  {
   "cell_type": "code",
   "execution_count": 43,
   "metadata": {
    "collapsed": false
   },
   "outputs": [
    {
     "name": "stdout",
     "output_type": "stream",
     "text": [
      " 로그인 유지 안녕 양희혜\n",
      "[u'\\ub85c\\uadf8\\uc778', u'\\uc720\\uc9c0', u'\\uc548\\ub155', u'\\uc591\\ud76c\\ud61c']\n",
      "4\n"
     ]
    }
   ],
   "source": [
    "s = u'<label for=\"keep_signed\">로그인 유지</label>안녕<sksjlkdj>양희혜'\n",
    "\n",
    "a = s.find('<')\n",
    "s = s[a+1:]\n",
    "k = ''\n",
    "c = 0\n",
    "\n",
    "while( c != -1) :\n",
    "    b = s.find('>')\n",
    "    c = s.find('<')\n",
    "    if(c == -1):\n",
    "        k = k + ' ' + s[b+1:]\n",
    "    else:\n",
    "        k = k + ' ' + s[b+1:c]\n",
    "    s = s[c+1:]\n",
    "print k\n",
    "\n",
    "l = k.split()\n",
    "print l \n",
    "print len(l)"
   ]
  },
  {
   "cell_type": "markdown",
   "metadata": {},
   "source": [
    "### 소감\n",
    "문제 5번 문제가 어려웠다. 갑자기 어려워진 기분이었다. 프로젝트 오일러 답을 제출하면 다른 사람들이 푼 방법이 나와있는데 거기에 더 좋은 방법으로 푸시는 분들이 많아서 놀라웠다."
   ]
  }
 ],
 "metadata": {
  "kernelspec": {
   "display_name": "Python 2",
   "language": "python",
   "name": "python2"
  },
  "language_info": {
   "codemirror_mode": {
    "name": "ipython",
    "version": 2
   },
   "file_extension": ".py",
   "mimetype": "text/x-python",
   "name": "python",
   "nbconvert_exporter": "python",
   "pygments_lexer": "ipython2",
   "version": "2.7.9"
  }
 },
 "nbformat": 4,
 "nbformat_minor": 0
}
