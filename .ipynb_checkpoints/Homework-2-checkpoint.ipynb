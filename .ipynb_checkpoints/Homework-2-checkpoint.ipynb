{
 "cells": [
  {
   "cell_type": "markdown",
   "metadata": {},
   "source": [
    "## Assignment 2\n",
    "\n",
    "                                                                                                                                                                     2013136068 양희혜\n",
    "\n",
    "### 문제1. 다음 6 개의 Expression에 대해 Evaluation 결과 값을 출력하고, 해당 결과가 나온 이유에 대해 설명하시오\n",
    "  - 1 and 2 and 3 and 4\n",
    "  - 1 or 2 or 3 or 4\n",
    "  - 1 and 2 or 3 and 4\n",
    "  - (1 and 2) or (3 and 4)\n",
    "  - 1 or 2 and 3 or 4\n",
    "  - (1 or 2) and (3 or 4)"
   ]
  },
  {
   "cell_type": "code",
   "execution_count": 1,
   "metadata": {
    "collapsed": false
   },
   "outputs": [
    {
     "name": "stdout",
     "output_type": "stream",
     "text": [
      "4\n",
      "1\n",
      "2\n",
      "2\n",
      "1\n",
      "3\n"
     ]
    }
   ],
   "source": [
    "print 1 and 2 and 3 and 4\n",
    "print 1 or 2 or 3 or 4\n",
    "print 1 and 2 or 3 and 4\n",
    "print (1 and 2) or (3 and 4)\n",
    "print 1 or 2 and 3 or 4\n",
    "print (1 or 2) and (3 or 4)"
   ]
  },
  {
   "cell_type": "markdown",
   "metadata": {},
   "source": [
    "-> 논리 연산자 자체가 값을 반환하지 않고, 논리 연산을 따라 최종적으로 평가되어진 값이 반환됨\n",
    "\n",
    "-> 앞 and 뒤 = 앞, 뒤 모두 evaluate한 결과\n",
    "\n",
    "-> 앞 or 뒤 : 앞이 true 이면 뒤쪽은 볼 것도 없이 true -> or 연산자는 참으로 간주하면 더이상 뒤를 확인하지 않고 참으로 간주\n",
    "\n",
    "ex) 3 or 4 는 # 3을 참으로 간주"
   ]
  },
  {
   "cell_type": "markdown",
   "metadata": {},
   "source": [
    "### 문제2. 키보드로 정수값을 입력 받고 그 값이 양수인지 음수인지를 비트 연산자를 이용하여 판단하는 프로그램을 작성하시오.\n",
    "  - [참고] 가장 왼쪽에 있는 비트가 0이면 양수이며, 1이면 음수이다.\n",
    "  - [참고] 수업보충자료 (https://github.com/bluebibi/python-e-learning/blob/master/supplement.ipynb) 를 참고하시오."
   ]
  },
  {
   "cell_type": "code",
   "execution_count": 6,
   "metadata": {
    "collapsed": false
   },
   "outputs": [
    {
     "name": "stdout",
     "output_type": "stream",
     "text": [
      "num? : -10\n",
      "음수입니다.\n"
     ]
    }
   ],
   "source": [
    "num = int(raw_input('num? : '))\n",
    "if ((abs(num) | num) == abs(num)) :\n",
    "    print u\"양수입니다.\"\n",
    "else :\n",
    "    print u\"음수입니다.\""
   ]
  },
  {
   "cell_type": "markdown",
   "metadata": {},
   "source": [
    "### 문제3. 경로에 해당하는 문자열 1개를 입력 받아 그 안에 디렉토리 경로명과 파일명을 분리하여 리스트로 반환하는 함수 div_path(s)를 작성하시오.\n",
    "  - 인자로 전달하는 문자열은 경로만 들어간다고 가정한다.\n",
    "  - 각 디렉토리와 파일을 구분하는 문자는 '/'로 가정한다.\n",
    "  - 반환하는 리스트의 첫번째 원소는 디렉토리이고 두번째 원소는 파일명이다.\n",
    "  - 다음과 같은 실행 및 출력 결과가 도출되어야 한다.\n",
    "  - div_path('/usr/local/bin/python')\n",
    "  - ['/usr/local/bin', 'python']\n",
    "  - div_path('/home/chulsoo/test.txt')\n",
    "  - ['/home/chulsoo', 'test.txt']\n",
    "  - [참고] 리스트(l) 내에 새로운 정수값 (예를 들어 10)을 넣는 방법은 l.append(10) 이다."
   ]
  },
  {
   "cell_type": "code",
   "execution_count": 82,
   "metadata": {
    "collapsed": false
   },
   "outputs": [
    {
     "data": {
      "text/plain": [
       "['/usr/local/bin', 'python']"
      ]
     },
     "execution_count": 82,
     "metadata": {},
     "output_type": "execute_result"
    }
   ],
   "source": [
    "def  div_path(s):\n",
    "    u = s.split('/')\n",
    "    a= u[:-1]\n",
    "\n",
    "    a = '/'.join(a)\n",
    "\n",
    "    k =u[-1]\n",
    "\n",
    "    l = []\n",
    "    l.append(a)\n",
    "    l.append(k)\n",
    "    \n",
    "    return l\n",
    "\n",
    "div_path('/usr/local/bin/python')"
   ]
  },
  {
   "cell_type": "code",
   "execution_count": 83,
   "metadata": {
    "collapsed": false
   },
   "outputs": [
    {
     "data": {
      "text/plain": [
       "['/home/chulsoo', 'test.txt']"
      ]
     },
     "execution_count": 83,
     "metadata": {},
     "output_type": "execute_result"
    }
   ],
   "source": [
    "div_path('/home/chulsoo/test.txt')"
   ]
  },
  {
   "cell_type": "markdown",
   "metadata": {},
   "source": [
    "###문제4. 두 개의 리스트를 인자로 받아서 그 두 개의 리스트에 대한 '합집합'을 반환하는 함수 list_union(lista, listb)를 작성하시오.\n",
    "  - 인자로 전달하는 리스트 2 개에는 정수값만 들어간다고 가정하자.\n",
    "  - 함수 내에서 새로운 리스트를 만들어 그 리스트 내에 인자로 받은 두 리스트의 모든 원소를 넣어 반환한다.\n",
    "  - 반환하는 리스트에는 절대로 중복된 원소가 들어 있으면 안된다 (집합의 조건).\n",
    "  - 반환하는 리스트는 정렬이 되어 있어야 한다.\n",
    "  - 다음과 같은 실행 및 출력 결과가 도출되어야 한다.\n",
    "  - list_union([1, 2, 3], [1, 2, 4])\n",
    "  - [1, 2, 3, 4]\n",
    "  - list_union([-10, -5, 0, -1], [100, 9, 0, 9])\n",
    "  - [-10, -5, -1, 0, 9, 100]\n",
    "  - list_union([0, 1, 2], [0, 1, 2])\n",
    "  - [0, 1, 2]\n",
    "  - [참고] 리스트(l) 내에 새로운 정수값 (예를 들어 10)을 넣는 방법은 l.append(10) 이다.\n",
    "  - [참고] 임의의 정수값 (x)이 리스트 (l) 내에 존재하는지 판단하는 방법은 x in l 이다."
   ]
  },
  {
   "cell_type": "code",
   "execution_count": 13,
   "metadata": {
    "collapsed": false
   },
   "outputs": [
    {
     "data": {
      "text/plain": [
       "[1, 2, 3, 4]"
      ]
     },
     "execution_count": 13,
     "metadata": {},
     "output_type": "execute_result"
    }
   ],
   "source": [
    "def list_union(lista, listb) :\n",
    "    l = []\n",
    "    l.extend(lista)\n",
    "    \n",
    "    for x in range(0, len(listb)) :\n",
    "        if ((listb[x] in l) == False) :\n",
    "            l.append(listb[x])\n",
    "            \n",
    "    l.sort()\n",
    "    return l\n",
    "\n",
    "list_union([1, 2, 3], [1, 2, 4])"
   ]
  },
  {
   "cell_type": "code",
   "execution_count": 14,
   "metadata": {
    "collapsed": false
   },
   "outputs": [
    {
     "data": {
      "text/plain": [
       "[-10, -5, -1, 0, 9, 100]"
      ]
     },
     "execution_count": 14,
     "metadata": {},
     "output_type": "execute_result"
    }
   ],
   "source": [
    "list_union([-10, -5, 0, -1], [100, 9, 0, 9])"
   ]
  },
  {
   "cell_type": "code",
   "execution_count": 15,
   "metadata": {
    "collapsed": false
   },
   "outputs": [
    {
     "data": {
      "text/plain": [
       "[0, 1, 2]"
      ]
     },
     "execution_count": 15,
     "metadata": {},
     "output_type": "execute_result"
    }
   ],
   "source": [
    "list_union([0, 1, 2], [0, 1, 2])"
   ]
  },
  {
   "cell_type": "markdown",
   "metadata": {},
   "source": [
    "### 프로젝트 오일러 4)\n",
    "  - 앞에서부터 읽을 때나 뒤에서부터 읽을 때나 모양이 같은 수를 대칭수(palindrome)라고 부릅니다. 두 자리 수를 곱해 만들 수 있는 대칭수 중 가장 큰 수는 9009 (= 91 × 99) 입니다. 세 자리 수를 곱해 만들 수 있는 가장 큰 대칭수는 얼마입니까?"
   ]
  },
  {
   "cell_type": "code",
   "execution_count": 8,
   "metadata": {
    "collapsed": false
   },
   "outputs": [
    {
     "name": "stdout",
     "output_type": "stream",
     "text": [
      "906609\n"
     ]
    }
   ],
   "source": [
    "l = []\n",
    "for x in range(100, 1000) :\n",
    "    for y in range(100, 1000):\n",
    "        result = x * y\n",
    "        \n",
    "        result = str(result)\n",
    "        result2 = result[::-1]\n",
    "        if (result2 == result) :\n",
    "            result = int(result)\n",
    "            l.append(result)\n",
    "            l.sort()\n",
    "print l[-1]"
   ]
  },
  {
   "cell_type": "markdown",
   "metadata": {},
   "source": [
    "### 프로젝트 오일러 5)\n",
    "  - 1 ~ 10 사이의 어떤 수로도 나누어 떨어지는 가장 작은 수는 2520입니다. 그러면 1 ~ 20 사이의 어떤 수로도 나누어 떨어지는 가장 작은 수는 얼마입니까?"
   ]
  },
  {
   "cell_type": "code",
   "execution_count": 3,
   "metadata": {
    "collapsed": false
   },
   "outputs": [
    {
     "name": "stdout",
     "output_type": "stream",
     "text": [
      "232792560\n"
     ]
    }
   ],
   "source": [
    "num = 22\n",
    "sum = 0\n",
    "while (1) :\n",
    "    for x in range(3, 21) :\n",
    "        if (num % x != 0) :\n",
    "            num += 2\n",
    "            sum = 0\n",
    "            break\n",
    "        else :\n",
    "            sum += 1\n",
    "            continue\n",
    "    if (sum == 18) :\n",
    "        print num\n",
    "        break"
   ]
  },
  {
   "cell_type": "markdown",
   "metadata": {},
   "source": [
    "### 프로젝트 오일러 6)\n",
    "  - 1부터 10까지 자연수를 각각 제곱해 더하면 다음과 같습니다 (제곱의 합).\n",
    "    1^2 + 2^2 + ... + 10^2 = 385\n",
    "  - 1부터 10을 먼저 더한 다음에 그 결과를 제곱하면 다음과 같습니다 (합의 제곱).    \n",
    "    (1 + 2 + ... + 10)^2 = 55^2 = 3025\n",
    "  - 따라서 1부터 10까지 자연수에 대해 \"합의 제곱\"과 \"제곱의 합\" 의 차이는 3025 - 385 = 2640 이 됩니다.\n",
    "\n",
    "  - 그러면 1부터 100까지 자연수에 대해 \"합의 제곱\"과 \"제곱의 합\"의 차이는 얼마입니까?"
   ]
  },
  {
   "cell_type": "code",
   "execution_count": 5,
   "metadata": {
    "collapsed": false
   },
   "outputs": [
    {
     "name": "stdout",
     "output_type": "stream",
     "text": [
      "25164150\n"
     ]
    }
   ],
   "source": [
    "num = 1\n",
    "sum1 = 0\n",
    "sum2 = 0\n",
    "while (num <= 100) :\n",
    "    sum1 = num * num + sum1\n",
    "    sum2 += num\n",
    "    num += 1\n",
    "sum2 = sum2 * sum2\n",
    "total = sum2 - sum1\n",
    "print total    "
   ]
  },
  {
   "cell_type": "markdown",
   "metadata": {},
   "source": [
    "### [Incremental Project] 웹 URL로 지정된 웹페이지를 문자열로 가져와 1) 모든 HTML 태그를 제외한 순수 텍스트 문자열만을 걸러내고, 2) 그 순수 텍스트 문자열 안에 존재하는 단어가 총 몇개인지 출력하는 프로그램을 작성하시오.\n",
    "  - HTML 태그는 다음 조건을 가지는 것이다.\n",
    "\n",
    "  - < 로 시작하여 >로 끝난다.\n",
    "  - 예를 들어, 아래와 같은 HTML 내용 내에 한 줄이 있다고 가정하자.\n",
    "        <label for=\"keep_signed\">로그인 유지</label>\n",
    "  - 위 소스에서 HTML 태그를 제외한 순수 텍스트 문자열은 아래와 같다.\n",
    "        로그인 유지\n",
    "  - 한편, 아래와 같은 HTML 한 줄이 있다고 가정하자.\n",
    "        <link rel=\"stylesheet\" href=\"/common/css/xe.min.css?20150910092654\" />\n",
    "  - 위 소스는 HTML 태그로만 구성된 것이며 걸러낼 수 있는 순수 텍스 문자열은 존재하지 않는다.\n",
    "  - 단어를 나누는 기준은 오로지 공백문자 (whitespace)이다.\n",
    "\n",
    "  - 즉, 위 순수 텍스트 문자열인 \"로그인 유지\"에서 분리한 단어는 \"로그인\"과 \"유지\"이다.\n",
    "  - 다음은 URL로 지정된 웹페이지를 특정 문자열로 가져오는 코드이다.\n",
    "  - 즉, 숙제 코드는 아래 코드로 부터 시작해야 한다."
   ]
  },
  {
   "cell_type": "code",
   "execution_count": 14,
   "metadata": {
    "collapsed": false
   },
   "outputs": [
    {
     "name": "stdout",
     "output_type": "stream",
     "text": [
      "<!DOCTYPE html>\n",
      "<html lang=\"ko\">\n",
      "<head>\n",
      "<!-- META -->\n",
      "<meta charset=\"utf-8\">\n",
      "<meta name=\"Generator\" content=\"XpressEngine\">\n",
      "<meta http-equiv=\"X-UA-Compatible\" content=\"IE=edge\">\n",
      "<!-- TITLE -->\n",
      "<title>컴퓨터공학부</title>\n",
      "<!-- CSS -->\n",
      "<link rel=\"stylesheet\" href=\"/common/css/xe.min.css?20150910092654\" />\n",
      "<link rel=\"stylesheet\" href=\"/layouts/cse/style/prettyPhoto.css?20150805222706\" />\n",
      "<link rel=\"stylesheet\" href=\"/layouts/cse/style/stylemobile.css?20150805222706\" />\n",
      "<link rel=\"stylesheet\" href=\"/layouts/cse/style/mobilenavigation.css?20150805222706\" />\n",
      "<link rel=\"stylesheet\" href=\"/modules/editor/styles/ckeditor_light/style.css?20150910092713\" />\n",
      "<link rel=\"stylesheet\" href=\"/widgets/login_info/skins/cse_login_info_2015/default.login.css?20150420232234\" />\n",
      "<link rel=\"stylesheet\" href=\"/widgets/content_cse/skins/cse_latest_2015/css/widget.css?20150625005943\" />\n",
      "<link rel=\"stylesheet\" href=\"/addons/font_nanum_gothic/font-nanum_gothic.css?20150429141819\" />\n",
      "<link rel=\"stylesheet\" href=\"/files/faceOff/664/070/layout.css?20150908002626\" />\n",
      "<!-- JS -->\n",
      "<!--[if lt IE 9]><script src=\"/common/js/jquery-1.x.min.js?20150910092655\"></script>\n",
      "<![endif]--><!--[if gte IE 9]><!--><script src=\"/common/js/jquery.min.js?20150910092655\"></script>\n",
      "<!--<![endif]--><script src=\"/common/js/x.min.js?20150910092655\"></script>\n",
      "<script src=\"/common/js/xe.min.js?20150910092655\"></script>\n",
      "<script src=\"/layouts/cse/script/modernizr.js?20150805222706\"></script>\n",
      "<script src=\"/widgets/login_info/skins/cse_login_info_2015/default.login.js?20150420232234\"></script>\n",
      "<script src=\"/widgets/content_cse/skins/cse_latest_2015/js/content_widget.js?20150422211442\"></script>\n",
      "<!-- RSS -->\n",
      "<link rel=\"alternate\" type=\"application/rss+xml\" title=\"Site RSS\" href=\"https://cse.kut.ac.kr/rss\" /><link rel=\"alternate\" type=\"application/atom+xml\" title=\"Site Atom\" href=\"https://cse.kut.ac.kr/atom\" /><!-- ICON -->\n",
      "<link rel=\"shortcut icon\" href=\"https://cse.koreatech.ac.kr/files/attach/xeicon/favicon.ico\" />\n",
      "\n",
      "<link href='https://fonts.googleapis.com/css?family=Raleway:400,700,300,900' rel='stylesheet' type='text/css' />\n",
      "<link href='https://fonts.googleapis.com/css?family=Nunito:400,300,700' rel='stylesheet' type='text/css' />\n",
      "<link rel=\"stylesheet\" href=\"//fonts.googleapis.com/earlyaccess/nanumgothic.css\" />\n",
      "<meta charset=\"utf-8\" />\n",
      "<meta name=\"viewport\" content=\"width=device-width, initial-scale=1.0\" />\n",
      "<meta name=\"description\" content=\"Website Description\" />\n",
      "<meta name=\"keywords\" content=\"Website Keywords\" /><script>\n",
      "//<![CDATA[\n",
      "var current_url = \"https://cse.kut.ac.kr/\";\n",
      "var request_uri = \"https://cse.kut.ac.kr/\";\n",
      "var current_mid = \"home_2015\";\n",
      "var waiting_message = \"서버에 요청 중입니다. 잠시만 기다려주세요.\";\n",
      "var ssl_actions = new Array();\n",
      "var default_url = \"https://cse.koreatech.ac.kr/\";\n",
      "var enforce_ssl = true;xe.current_lang = \"ko\";\n",
      "xe.cmd_find = \"찾기\";\n",
      "xe.cmd_cancel = \"취소\";\n",
      "xe.cmd_confirm = \"확인\";\n",
      "xe.msg_no_root = \"루트는 선택 할 수 없습니다.\";\n",
      "xe.msg_no_shortcut = \"바로가기는 선택 할 수 없습니다.\";\n",
      "xe.msg_select_menu = \"대상 메뉴 선택\";\n",
      "//]]>\n",
      "</script>\n",
      "</head>\n",
      "<body>\n",
      "<!DOCTYPE html>\n",
      "<html lang=\"ko\">\n",
      "<head>\n",
      "\t\n",
      "\t<title>Schoolfun - Study and Fun</title>\n",
      "\t\n",
      "\t\n",
      "\t\n",
      "\t\t\n",
      "\t\n",
      "\t\n",
      "\t\t<!--  -->\n",
      "\t\t\t\n",
      "</head>\n",
      "<body class=\"\">\n",
      "<header id=\"main-header\" class=\"clearfix\">\n",
      "\t<div id=\"header-full\" class=\"clearfix\">\n",
      "\t\t<div id=\"header\" class=\"clearfix\">\n",
      "\t\t\t<a href=\"#nav\" class=\"open-menu\">\n",
      "\t\t\t\t<span class=\"icon-bar\"></span>\n",
      "\t\t\t\t<span class=\"icon-bar\"></span>\n",
      "\t\t\t\t<span class=\"icon-bar\"></span>\n",
      "\t\t\t</a>\n",
      "\t\t\t<a href=\"https://cse.kut.ac.kr/\" id=\"logo\"><img src=\"/layouts/cse/images/cse_logo.png\" data-retina=\"images/cse_logo.png\" alt=\"School Fun - WordPress Theme\" /></a>\n",
      "\t\t\t<aside id=\"header-content\">\n",
      "\t\t\t\t<!--\n",
      "\t\t\t\t<form method=\"post\" action=\"#\" id=\"searchform\"><input type=\"hidden\" name=\"error_return_url\" value=\"/\" /><input type=\"hidden\" name=\"act\" value=\"\" /><input type=\"hidden\" name=\"mid\" value=\"home_2015\" /><input type=\"hidden\" name=\"vid\" value=\"\" />\n",
      "\t\t\t\t\t<div>\t\t\t\t\t</div>\n",
      "\t\t\t\t</form>\n",
      "\t\t\t\t-->\n",
      "\t\t\t\t<ul id=\"nav-header\" style=\"\">\t\t\t\t\t\n",
      "\t\t\t\t\t<li><div class=\"xe-widget-wrapper \" style=\"\"><div style=\"*zoom:1;padding:0px 0px 0px 0px !important;\"><form id=\"fo_login_widget\" action=\"https://cse.koreatech.ac.kr/index.php?act=procMemberLogin\" method=\"post\"  class=\"account\"><input type=\"hidden\" name=\"error_return_url\" value=\"/\" /><input type=\"hidden\" name=\"mid\" value=\"home_2015\" /><input type=\"hidden\" name=\"vid\" value=\"\" /><input type=\"hidden\" name=\"ruleset\" value=\"@login\" />\n",
      "\t<a href=\"#acField\">로그인</a>\n",
      "\t<fieldset id=\"acField\">\n",
      "\t\t<h2>로그인</h2>\n",
      "\t\t<input type=\"hidden\" name=\"act\" value=\"procMemberLogin\" />\n",
      "\t\t<input type=\"hidden\" name=\"success_return_url\" value=\"/\" />\n",
      "\t\t<input type=\"hidden\" name=\"xe_validator_id\" value=\"widgets/login_info/skins/default/login_form/1\" />\n",
      "\t\t\t\t<div class=\"idpw\">\n",
      "\t\t\t<label for=\"user_id\">아이디</label>\t\t\t<input name=\"user_id\" id=\"user_id\" type=\"text\" required />\t\t\t\t\t\t\t\t\t<label for=\"user_pw\">비밀번호</label>\n",
      "\t\t\t<input name=\"password\" id=\"user_pw\" type=\"password\" required />\n",
      "\t\t\t<p class=\"keep\">\n",
      "\t\t\t\t<input type=\"checkbox\" name=\"keep_signed\" id=\"keep_signed\" value=\"Y\" />\n",
      "\t\t\t\t<label for=\"keep_signed\">로그인 유지</label>\n",
      "\t\t\t</p>\n",
      "\t\t\t<p class=\"warning\">브라우저를 닫더라도 로그인이 계속 유지될 수 있습니다. 로그인 유지 기능을 사용할 경우 다음 접속부터는 로그인할 필요가 없습니다. 단, 게임방, 학교 등 공공장소에서 이용 시 개인정보가 유출될 수 있으니 꼭 로그아웃을 해주세요.</p>\n",
      "\t\t</div>\n",
      "\t\t<input type=\"submit\" value=\"로그인\" />\n",
      "\t\t<ul class=\"help\">\n",
      "\t\t\t<li><a href=\"https://cse.koreatech.ac.kr/index.php?mid=home_2015&amp;act=dispMemberSignUpForm\">회원가입</a></li>\n",
      "\t\t\t<li><a href=\"https://cse.koreatech.ac.kr/index.php?mid=home_2015&amp;act=dispMemberFindAccount\">ID/PW 찾기</a></li>\n",
      "\t\t</ul>\n",
      "\t</fieldset>\n",
      "</form>\n",
      "</div></div></li>\n",
      "\t\t\t\t</ul>\n",
      "\t\t\t\t<h3 id=\"slogan\" style=\"font-family:'Nanum Gothic', serif\">IT 교육의 글로벌 메카!<br/>한국기술교육대학교 컴퓨터공학부</h3>\n",
      "\t\t\t</aside>\n",
      "\t\t</div>\n",
      "\t</div>\n",
      "\t<nav id=\"nav\" class=\"clearfix\">\n",
      "\t\t<a href=\"#\" class=\"close-menu-big\">Close</a>\n",
      "\t\t<div id=\"nav-container\">\n",
      "\t\t\t<a href=\"#\" class=\"close-menu\">\n",
      "\t\t\t\t<span class=\"icon-bar\"></span>\n",
      "\t\t\t\t<span class=\"icon-bar\"></span>\n",
      "\t\t\t\t<span class=\"icon-bar\"></span>\n",
      "\t\t\t</a>\n",
      "\t\t\t<ul id=\"nav-main\">\n",
      "\t\t\t\t\t\t\t\t<li>\n",
      "\t\t\t\t\t\t\t\t\t\t<a href=\"https://cse.koreatech.ac.kr/intro_home_2015\" >소개</a>\n",
      "\t\t\t\t\t\t\t\t\t\t\n",
      "\t\t\t\t</li>\n",
      "\t\t\t\t\t\t\t\t\t\t\t\t\t<li>\n",
      "\t\t\t\t\t\t\t\t\t\t<a href=\"https://cse.koreatech.ac.kr/page_KbyV58\" >구성원소개</a>\n",
      "\t\t\t\t\t\t\t\t\t\t\n",
      "\t\t\t\t</li>\n",
      "\t\t\t\t\t\t\t\t\t\t\t\t\t<li>\n",
      "\t\t\t\t\t\t\t\t\t\t<a href=\"https://cse.koreatech.ac.kr/page_izgw21\" >학사안내</a>\n",
      "\t\t\t\t\t\t\t\t\t\t\n",
      "\t\t\t\t</li>\n",
      "\t\t\t\t\t\t\t\t\t\t\t\t\t<li>\n",
      "\t\t\t\t\t\t\t\t\t\t<a href=\"#\">입학</a>\n",
      "\t\t\t\t\t<ul>\n",
      "                        <li><a href=\"http://www.koreatech.ac.kr/admission.do\" target=\"_blank\">학부</a></li>\n",
      "                        <li><a href=\"http://www.koreatech.ac.kr/grd/sub02_01_01_01.do\" target=\"_blank\">대학원</a></li>\n",
      "                    </ul>\n",
      "\t\t\t\t\t\t\t\t\t\t\n",
      "\t\t\t\t</li>\n",
      "\t\t\t\t\t\t\t\t\t\t\t\t\t<li>\n",
      "\t\t\t\t\t\t\t\t\t\t<a href=\"https://cse.koreatech.ac.kr/notice\" >학부광장</a>\n",
      "\t\t\t\t\t\t\t\t\t\t\n",
      "\t\t\t\t</li>\n",
      "\t\t\t\t\t\t\t\t\t\t\t\t\t<li>\n",
      "\t\t\t\t\t\t\t\t\t\t<a href=\"https://cse.koreatech.ac.kr/pds\" >자료실</a>\n",
      "\t\t\t\t\t\t\t\t\t\t\n",
      "\t\t\t\t</li>\n",
      "\t\t\t\t\t\t\t\t\t\t\t\t\t<li>\n",
      "\t\t\t\t\t\t\t\t\t\t<a href=\"https://cse.koreatech.ac.kr/page_birW64\" >대학원</a>\n",
      "\t\t\t\t\t\t\t\t\t\t\n",
      "\t\t\t\t</li>\n",
      "\t\t\t\t\t\t\t\t\t\t\t\t\t<li>\n",
      "\t\t\t\t\t\t\t\t\t\t<a href=\"https://cse.koreatech.ac.kr/page_vBGH80\" >공학교육인증</a>\n",
      "\t\t\t\t\t\t\t\t\t\t\n",
      "\t\t\t\t</li>\n",
      "\t\t\t\t\t\t\t\t\t\t\t\t\t<li>\n",
      "\t\t\t\t\t\t\t\t\t\t<a href=\"\" ></a>\n",
      "\t\t\t\t\t\t\t\t\t\t\n",
      "\t\t\t\t</li>\n",
      "\t\t\t\t\t\t\t\t\t\t\t\t\t\n",
      "\t\t\t</ul>\n",
      "                        \t\t\t<a href=\"https://cse.koreatech.ac.kr/index.php?mid=home_2015&amp;act=dispMemberSignUpForm\" id=\"button-registration\">Registration</a>\n",
      "                        \t\t</div>\n",
      "\t</nav>\n",
      "</header>      \n",
      "\t        \t        \n",
      "<!-- main image tab start -->\n",
      "<div id=\"slideshow-tabs\" class=\"ui-tabs ui-widget ui-widget-content ui-corner-all\">\n",
      "    <div id=\"panel-tabs\" class=\"clearfix\">\n",
      "        <ul class=\"nav-tabs-slideshow ui-tabs-nav ui-helper-reset ui-helper-clearfix ui-widget-header ui-corner-all\" role=\"tablist\">\n",
      "            <li class=\"ui-state-default ui-corner-top ui-tabs-active ui-state-active\" role=\"tab\" tabindex=\"0\" aria-controls=\"panel-1\" aria-labelledby=\"ui-id-1\" aria-selected=\"true\"><a href=\"#panel-1\" class=\"ui-tabs-anchor\" role=\"presentation\" tabindex=\"-1\" id=\"ui-id-1\"><strong>컴퓨터공학부</strong><br>\n",
      "                <span>School of Computer Science and Engineering</span>\n",
      "                </a>\n",
      "            </li>\n",
      "            <li class=\"ui-state-default ui-corner-top\" role=\"tab\" tabindex=\"-1\" aria-controls=\"panel-2\" aria-labelledby=\"ui-id-2\" aria-selected=\"false\">\n",
      "                <a href=\"#panel-2\" class=\"ui-tabs-anchor\" role=\"presentation\" tabindex=\"-1\" id=\"ui-id-2\"><strong>IT 융합소프트웨어 인력양성사업</strong><br>\n",
      "                <span>CK (Creative Korea)-I</span>\n",
      "                </a>\n",
      "            </li>\n",
      "            <li class=\"ui-state-default ui-corner-top\" role=\"tab\" tabindex=\"-1\" aria-controls=\"panel-3\" aria-labelledby=\"ui-id-3\" aria-selected=\"false\">\n",
      "                <a href=\"#panel-3\" class=\"ui-tabs-anchor\" role=\"presentation\" tabindex=\"-1\" id=\"ui-id-3\"><strong>교육역량강화사업 온라인 컨텐츠</strong><br>\n",
      "                <span>Online Contents for Education Capability Empowerment</span>\n",
      "                </a>\n",
      "            </li>\n",
      "        </ul>\n",
      "    </div>\n",
      "\t<div class=\"ui-tabs-panel ui-widget-content ui-corner-bottom\" id=\"panel-1\" style=\"background-image: url(layouts/cse/images/kut1.png); display: block; background-position: 50% 0px; background-repeat: no-repeat no-repeat;\" aria-labelledby=\"ui-id-1\" role=\"tabpanel\" aria-expanded=\"true\" aria-hidden=\"false\">\n",
      "        <div class=\"tabs-blur no-blur\" style=\"background:url(http://placehold.it/2000x620) no-repeat 50% 0\">\n",
      "        </div>\n",
      "        <div class=\"tabs-container\">\n",
      "            <article>\n",
      "                <h2>IT 교육의 글로벌 메카</h2>\n",
      "                <p>한국기술교육대학교 컴퓨터공학부 홈페이지에 오신 것을<br/>환영합니다!</p>\n",
      "            </article>\n",
      "        </div>\n",
      "    </div>\n",
      "    <div class=\"ui-tabs-panel ui-widget-content ui-corner-bottom\" id=\"panel-2\" style=\"background-image: url(layouts/cse/images/kut2.png); display: none; background-position: 50% 0px; background-repeat: no-repeat no-repeat;\" aria-labelledby=\"ui-id-2\" role=\"tabpanel\" aria-expanded=\"false\" aria-hidden=\"true\">\n",
      "        <div class=\"tabs-blur no-blur\" style=\"background:url(http://placehold.it/2000x620) no-repeat 50% 0\">\n",
      "        </div>\n",
      "\t<div class=\"tabs-container\">\n",
      "            <article>\n",
      "                <h2>IT 융합소프트웨어 인력양성사업</h2>\n",
      "                <p>글로벌 수준의 IT전문인력 양성<br/>\n",
      "IT융합분야에 대한 국제적인 경쟁력 고취</p>\n",
      "                <a href=\"http://itcsw.koreatech.ac.kr\" target=\"_blank\" class=\"button-more-slide\">바로가기</a>\n",
      "            </article>\n",
      "        </div>\n",
      "    </div>\n",
      "    <div class=\"ui-tabs-panel ui-widget-content ui-corner-bottom\" id=\"panel-3\" style=\"background-image: url(layouts/cse/images/kut3.png); display: none; background-position: 50% 0px; background-repeat: no-repeat no-repeat;\" aria-labelledby=\"ui-id-3\" role=\"tabpanel\" aria-expanded=\"false\" aria-hidden=\"true\">\n",
      "        <div class=\"tabs-blur no-blur\" style=\"background:url(http://placehold.it/2000x620) no-repeat 50% 0\">\n",
      "        </div>\n",
      "\t<div class=\"tabs-container\">\n",
      "            <article>\n",
      "                <h2>교육역량강화사업 컨텐츠</h2>\n",
      "                <p>교육역량강화사업 온라인 컨텐츠를 소개합니다.</p>\n",
      "                <a href=\"http://218.150.181.55\" target=\"_blank\" class=\"button-more-slide\">바로가기</a>\n",
      "            </article>\n",
      "        </div>\n",
      "    </div>\n",
      "</div>\n",
      "<!-- main image tab end -->\n",
      "<div>\n",
      "    <div id=\"content\" class=\"clearfix\">\t\t\n",
      "    <div class=\"xe-widget-wrapper \" style=\"float: left; width: 375px; border: 0px solid rgb(0, 0, 0); margin: 0px; background-image: none; background-position: 0% 0%; background-repeat: repeat repeat;\"><div style=\"*zoom:1;padding:0px 0px 0px 0px !important;\"><div class=\"sidebar-homepage\">\n",
      "<aside class=\"widget-container\">\n",
      "\t<div class=\"widget-wrapper clearfix\">\n",
      "                <h3 class=\"widget-title\"><a href=\"https://cse.koreatech.ac.kr/notice\">공지사항</a></h3>\n",
      "    <ul class=\"widgetA menu news-sidebar\">\n",
      "                    <li class=\"clearfix\" >\n",
      "                                                                                        <h4><a href=\"https://cse.koreatech.ac.kr/74311\" class=\"title\">[특성화] 토익, 오픽 강좌 수요조사 공고</a></h4>\n",
      "                                                                                                                            <span class=\"date-news\">2015-10-06 16:41 16:41</span>\n",
      "                                    </li>\n",
      "                <li class=\"clearfix\" >\n",
      "                                                                                        <h4><a href=\"https://cse.koreatech.ac.kr/74299\" class=\"title\">[특성화] IT융합 개도국 해외기술지원봉사 참가자 모집...</a></h4>\n",
      "                                                                                                                            <span class=\"date-news\">2015-10-05 16:38 16:38</span>\n",
      "                                    </li>\n",
      "                <li class=\"clearfix\" >\n",
      "                                                                                        <h4><a href=\"https://cse.koreatech.ac.kr/74281\" class=\"title\">[특성화] 장비대여 안내</a></h4>\n",
      "                                                                                                                            <span class=\"date-news\">2015-10-05 15:28 15:28</span>\n",
      "                                    </li>\n",
      "                <li class=\"clearfix\" >\n",
      "                                                                                        <h4><a href=\"https://cse.koreatech.ac.kr/74279\" class=\"title\">제4회 TOPCIT 정기평가</a></h4>\n",
      "                                                                                                                            <span class=\"date-news\">2015-10-05 14:56 14:56</span>\n",
      "                                    </li>\n",
      "                <li class=\"clearfix\" >\n",
      "                                                                                        <h4><a href=\"https://cse.koreatech.ac.kr/74278\" class=\"title\">[특성화] 국제게임전시회 G-star 2015 참관 안내</a></h4>\n",
      "                                                                                                                            <span class=\"date-news\">2015-10-05 11:51 11:51</span>\n",
      "                                    </li>\n",
      "            </ul>\n",
      "            </div>\n",
      "</aside>\n",
      "</div>\n",
      "</div></div><div class=\"xe-widget-wrapper \" style=\"float: left; width: 375px; border: 0px solid rgb(0, 0, 0); margin: 0px; background-image: none; background-position: 0% 0%; background-repeat: repeat repeat;\"><div style=\"*zoom:1;padding:0px 0px 0px 0px !important;\"><div class=\"sidebar-homepage\">\n",
      "<aside class=\"widget-container\">\n",
      "\t<div class=\"widget-wrapper clearfix\">\n",
      "                <h3 class=\"widget-title\"><a href=\"https://cse.koreatech.ac.kr/freeboard\">자유게시판</a></h3>\n",
      "    <ul class=\"widgetA menu news-sidebar\">\n",
      "                    <li class=\"clearfix\" >\n",
      "                                                                                        <h4><a href=\"https://cse.koreatech.ac.kr/74065\" class=\"title\">(주) 엔에스이 에서 개발자를 모집합니다.</a></h4>\n",
      "                                                                                                                            <span class=\"date-news\">2015-09-30 13:30 13:30</span>\n",
      "                                    </li>\n",
      "                <li class=\"clearfix\" >\n",
      "                                                                                        <h4><a href=\"https://cse.koreatech.ac.kr/73939\" class=\"title\">졸업작품 전시회 컴퓨터공학부 인기상 투표 이벤트</a></h4>\n",
      "                                                                                                                            <span class=\"date-news\">2015-09-25 01:21 01:21</span>\n",
      "                                    </li>\n",
      "                <li class=\"clearfix\" >\n",
      "                                                                                        <h4><a href=\"https://cse.koreatech.ac.kr/73191\" class=\"title\">삼성 대학생 프로그래밍 경진대회</a></h4>\n",
      "                                                                                                                            <span class=\"date-news\">2015-09-15 11:17 11:17</span>\n",
      "                                    </li>\n",
      "                <li class=\"clearfix\" >\n",
      "                                                                                        <h4><a href=\"https://cse.koreatech.ac.kr/73152\" class=\"title\">2015년 4차 모의토익 지원</a></h4>\n",
      "                                                                                                                            <span class=\"date-news\">2015-09-09 23:34 23:34</span>\n",
      "                                    </li>\n",
      "                <li class=\"clearfix\" >\n",
      "                                                                                        <h4><a href=\"https://cse.koreatech.ac.kr/73140\" class=\"title\">난 괜찮아, 돌아가면 되지~</a></h4>\n",
      "                                                                                                                            <span class=\"date-news\">2015-09-09 15:51 15:51</span>\n",
      "                                    </li>\n",
      "            </ul>\n",
      "            </div>\n",
      "</aside>\n",
      "</div>\n",
      "</div></div><div class=\"xe-widget-wrapper \" style=\"float: left; width: 375px; border: 0px solid rgb(0, 0, 0); margin: 0px; background-image: none; background-position: 0% 0%; background-repeat: repeat repeat;\"><div style=\"*zoom:1;padding:0px 0px 0px 0px !important;\"><div class=\"sidebar-homepage\">\n",
      "<aside class=\"widget-container\">\n",
      "\t<div class=\"widget-wrapper clearfix\">\n",
      "                <h3 class=\"widget-title\"><a href=\"https://cse.koreatech.ac.kr/jobboard\">취업게시판</a></h3>\n",
      "    <ul class=\"widgetA menu news-sidebar\">\n",
      "                    <li class=\"clearfix\" >\n",
      "                                                                                        <h4><a href=\"https://cse.koreatech.ac.kr/73881\" class=\"title\">[특성화] (주)KMW  인턴사원 모집공고</a></h4>\n",
      "                                                                                                                            <span class=\"date-news\">2015-09-23 14:31 14:31</span>\n",
      "                                    </li>\n",
      "                <li class=\"clearfix\" >\n",
      "                                                                                        <h4><a href=\"https://cse.koreatech.ac.kr/73170\" class=\"title\">㈜인젠트 기술연구소 전문연구요원 모집</a></h4>\n",
      "                                                                                                                            <span class=\"date-news\">2015-09-14 11:54 11:54</span>\n",
      "                                    </li>\n",
      "                <li class=\"clearfix\" >\n",
      "                                                                                        <h4><a href=\"https://cse.koreatech.ac.kr/73018\" class=\"title\">펜타인 2015년도 신입사원 채용공고</a></h4>\n",
      "                                                                                                                            <span class=\"date-news\">2015-09-03 16:16 16:16</span>\n",
      "                                    </li>\n",
      "                <li class=\"clearfix\" >\n",
      "                                                                                        <h4><a href=\"https://cse.koreatech.ac.kr/72978\" class=\"title\">LIG인베니아 (코스닥상장 LIG그룹사 디스플레이장비전...</a></h4>\n",
      "                                                                                                                            <span class=\"date-news\">2015-09-03 14:01 14:01</span>\n",
      "                                    </li>\n",
      "                <li class=\"clearfix\" >\n",
      "                                                                                        <h4><a href=\"https://cse.koreatech.ac.kr/71878\" class=\"title\">㈜ 한울 소프트웨어 개발자</a></h4>\n",
      "                                                                                                                            <span class=\"date-news\">2015-06-18 10:28 10:28</span>\n",
      "                                    </li>\n",
      "            </ul>\n",
      "            </div>\n",
      "</aside>\n",
      "</div>\n",
      "</div></div><div class=\"xe-widget-wrapper \" style=\"float: left; width: 375px; border: 0px solid rgb(0, 0, 0); margin: 0px; background-image: none; background-position: 0% 0%; background-repeat: repeat repeat;\"><div style=\"*zoom:1;padding:0px 0px 0px 0px !important;\"><div class=\"sidebar-homepage\">\n",
      "<aside class=\"widget-container\">\n",
      "\t<div class=\"widget-wrapper clearfix\">\n",
      "                <h3 class=\"widget-title\"><a href=\"http://www.venturesquare.net/\">VENTURESQUARE</a></h3>\n",
      "    <ul class=\"widgetA menu news-sidebar\">\n",
      "                    <li class=\"clearfix\" >\n",
      "                                                                                        <h4><a href=\"http://feedproxy.google.com/~r/vs-rss/~3/AG1GHIa7Pb0/602800\" class=\"title\">경기창조경제혁신센터,  IoT 분야 보육기업 4개사 추가...</a></h4>\n",
      "                                                                                    <span class=\"icon\"></span>\n",
      "                                                                                    <span class=\"date-news\">2015-10-06 16:37 16:37</span>\n",
      "                                    </li>\n",
      "                <li class=\"clearfix\" >\n",
      "                                                                                        <h4><a href=\"http://feedproxy.google.com/~r/vs-rss/~3/LsSuoe_dniA/602786\" class=\"title\">[펀다 매거진] 핀테크, 금융과 기술의 만남 #5</a></h4>\n",
      "                                                                                    <span class=\"icon\"></span>\n",
      "                                                                                    <span class=\"date-news\">2015-10-06 15:25 15:25</span>\n",
      "                                    </li>\n",
      "                <li class=\"clearfix\" >\n",
      "                                                                                        <h4><a href=\"http://feedproxy.google.com/~r/vs-rss/~3/ImAXGzel2p8/602782\" class=\"title\">업계 최고 슈퍼 멘토에게 배우자 인터랙티브 교육 ‘클...</a></h4>\n",
      "                                                                                    <span class=\"icon\"></span>\n",
      "                                                                                    <span class=\"date-news\">2015-10-06 15:12 15:12</span>\n",
      "                                    </li>\n",
      "                <li class=\"clearfix\" >\n",
      "                                                                                        <h4><a href=\"http://feedproxy.google.com/~r/vs-rss/~3/VTqHw2TlfzA/602773\" class=\"title\">우리에게 없는건 시간이 아니다</a></h4>\n",
      "                                                                                    <span class=\"icon\"></span>\n",
      "                                                                                    <span class=\"date-news\">2015-10-06 14:57 14:57</span>\n",
      "                                    </li>\n",
      "                <li class=\"clearfix\" >\n",
      "                                                                                        <h4><a href=\"http://feedproxy.google.com/~r/vs-rss/~3/hneXUp56SbE/602755\" class=\"title\">[코리안 스타트업을 위한 글로벌 여행 티켓] 87편.스타...</a></h4>\n",
      "                                                                                    <span class=\"icon\"></span>\n",
      "                                                                                    <span class=\"date-news\">2015-10-06 14:50 14:50</span>\n",
      "                                    </li>\n",
      "            </ul>\n",
      "            </div>\n",
      "</aside>\n",
      "</div>\n",
      "</div></div><div class=\"xe-widget-wrapper \" style=\"float: left; width: 375px; border: 0px solid rgb(0, 0, 0); margin: 0px; background-image: none; background-position: 0% 0%; background-repeat: repeat repeat;\"><div style=\"*zoom:1;padding:0px 0px 0px 0px !important;\"><div class=\"sidebar-homepage\">\n",
      "<aside class=\"widget-container\">\n",
      "\t<div class=\"widget-wrapper clearfix\">\n",
      "                <h3 class=\"widget-title\"><a href=\"http://www.etnews.com/\">전자신문</a></h3>\n",
      "    <ul class=\"widgetA menu news-sidebar\">\n",
      "                    <li class=\"clearfix\" >\n",
      "                                                                                        <h4><a href=\"http://www.etnews.com/20151006000346\" class=\"title\">전자신문 아이티어 1기 “생생한 IT 소식 전하겠습니다”</a></h4>\n",
      "                                                                                    <span class=\"icon\"></span>\n",
      "                                                                                    <span class=\"date-news\">2015-10-06 19:51 19:51</span>\n",
      "                                    </li>\n",
      "                <li class=\"clearfix\" >\n",
      "                                                                                        <h4><a href=\"http://www.etnews.com/20151006000152\" class=\"title\">세계 최초 3밴드 LTE-A 공방 일단락···KT, SKT 상대 소...</a></h4>\n",
      "                                                                                    <span class=\"icon\"></span>\n",
      "                                                                                    <span class=\"date-news\">2015-10-06 19:00 19:00</span>\n",
      "                                    </li>\n",
      "                <li class=\"clearfix\" >\n",
      "                                                                                        <h4><a href=\"http://www.etnews.com/20151006000196\" class=\"title\">[ET단상]주파수할당, 사회 효율성을 핵심 가치로</a></h4>\n",
      "                                                                                    <span class=\"icon\"></span>\n",
      "                                                                                    <span class=\"date-news\">2015-10-06 18:00 18:00</span>\n",
      "                                    </li>\n",
      "                <li class=\"clearfix\" >\n",
      "                                                                                        <h4><a href=\"http://www.etnews.com/20151006000274\" class=\"title\">[해설]2.1㎓ 경매 `3사3색` 주장...업계 \"경매방식 명...</a></h4>\n",
      "                                                                                    <span class=\"icon\"></span>\n",
      "                                                                                    <span class=\"date-news\">2015-10-06 18:00 18:00</span>\n",
      "                                    </li>\n",
      "                <li class=\"clearfix\" >\n",
      "                                                                                        <h4><a href=\"http://www.etnews.com/20151006000331\" class=\"title\">[ET단상]방송 콘텐츠 글로벌 유통 활성화를 위한 전략</a></h4>\n",
      "                                                                                    <span class=\"icon\"></span>\n",
      "                                                                                    <span class=\"date-news\">2015-10-06 18:00 18:00</span>\n",
      "                                    </li>\n",
      "            </ul>\n",
      "            </div>\n",
      "</aside>\n",
      "</div>\n",
      "</div></div><div class=\"xe-widget-wrapper \" style=\"float: left; width: 375px; border: 0px solid rgb(0, 0, 0); margin: 0px; background-image: none; background-position: 0% 0%; background-repeat: repeat repeat;\"><div style=\"*zoom:1;padding:0px 0px 0px 0px !important;\"><div class=\"sidebar-homepage\">\n",
      "<aside class=\"widget-container\">\n",
      "\t<div class=\"widget-wrapper clearfix\">\n",
      "                <h3 class=\"widget-title\"><a href=\"http://recode.net/\">RE/CODE</a></h3>\n",
      "    <ul class=\"widgetA menu news-sidebar\">\n",
      "                    <li class=\"clearfix\" >\n",
      "                                                                                        <h4><a href=\"http://recode.net/2015/10/06/microsoft-unveils-surface-laptop-updated-lumia-phone-and-fitness-tracker-the-verge/\" class=\"title\">Microsoft Unveils Surface Laptop, Updated Lumi...</a></h4>\n",
      "                                                                                    <span class=\"icon\"></span>\n",
      "                                                                                    <span class=\"date-news\">2015-10-07 01:14 01:14</span>\n",
      "                                    </li>\n",
      "                <li class=\"clearfix\" >\n",
      "                                                                                        <h4><a href=\"http://recode.net/2015/10/06/microsoft-now-taking-applications-for-3000-hololens-development-kits/\" class=\"title\">Microsoft Now Taking Applications for $3,000 H...</a></h4>\n",
      "                                                                                    <span class=\"icon\"></span>\n",
      "                                                                                    <span class=\"date-news\">2015-10-06 23:55 23:55</span>\n",
      "                                    </li>\n",
      "                <li class=\"clearfix\" >\n",
      "                                                                                        <h4><a href=\"http://recode.net/2015/10/06/twitter-moments-are-like-snapchats-live-stories-except-theyre-on-twitter/\" class=\"title\">Twitter Moments Are Like Snapchat’s Live Stori...</a></h4>\n",
      "                                                                                    <span class=\"icon\"></span>\n",
      "                                                                                    <span class=\"date-news\">2015-10-06 23:42 23:42</span>\n",
      "                                    </li>\n",
      "                <li class=\"clearfix\" >\n",
      "                                                                                        <h4><a href=\"http://recode.net/2015/10/06/here-are-the-four-new-science-startups-backed-by-the-thiel-foundations-breakout-labs/\" class=\"title\">Here Are the Four New Science Startups Backed ...</a></h4>\n",
      "                                                                                    <span class=\"icon\"></span>\n",
      "                                                                                    <span class=\"date-news\">2015-10-06 22:28 22:28</span>\n",
      "                                    </li>\n",
      "                <li class=\"clearfix\" >\n",
      "                                                                                        <h4><a href=\"http://recode.net/2015/10/06/twitters-next-hail-mary-project-lightning-has-arrived/\" class=\"title\">Twitter’s Next Hail Mary, Project Lightning, H...</a></h4>\n",
      "                                                                                    <span class=\"icon\"></span>\n",
      "                                                                                    <span class=\"date-news\">2015-10-06 22:00 22:00</span>\n",
      "                                    </li>\n",
      "            </ul>\n",
      "            </div>\n",
      "</aside>\n",
      "</div>\n",
      "</div></div>    </div>\n",
      "</div>\n",
      "<!-- main page footer start -->\n",
      "<footer id=\"main-footer\">\n",
      "    <!--\n",
      "    <div id=\"blur-top\">\n",
      "        <a href=\"#\" id=\"link-back-top\">Back to Top</a>\n",
      "    </div>\n",
      "    <div id=\"slogan-footer\">\n",
      "        <h4>Leading Together <span>for</span> Brighter Future</h4>\n",
      "    </div>\n",
      "    -->\n",
      "    <div id=\"footer-content\" class=\"clearfix\">\n",
      "        <div id=\"footer-container\">\n",
      "            <div id=\"sidebar-footer-left\" class=\"sidebar-footer\">\n",
      "                <aside class=\"widget-container\">\n",
      "                    <div class=\"widget-wrapper clearfix\">\n",
      "                        <h3 class=\"widget-title\">Quick Navigation</h3>\n",
      "                        <ul>\n",
      "                            <li><a href=\"http://www.koreatech.ac.kr\" target=\"_blank\">한국기술교육대학교 홈페이지</a></li>\n",
      "                            <li><a href=\"https://email.koreatech.ac.kr\" target=\"_blank\">한국기술교육대학교 WEBMAIL</a></li>\n",
      "                            <li><a href=\"http://www.e-koreatech.ac.kr\" target=\"_blank\">한국기술교육대학교 온라인 평생교육원</a></li>\n",
      "                            <li><a href=\"http://218.150.181.55\" target=\"_blank\">교육역량강화사업 온라인 컨텐츠</a></li>\n",
      "                            <!--<li><a href=\"https://cse.koreatech.ac.kr/?mid=portfolio\" target=\"_blank\">컴퓨터공학부 포트폴리오</a></li>-->\n",
      "                            <li><a href=\"http://itcsw.koreatech.ac.kr\" target=\"_blank\">IT 융합소프트웨어 인력양성사업</a></li>\n",
      "                        </ul>\n",
      "                    </div>\n",
      "                </aside>\n",
      "            </div>\n",
      "            <div id=\"sidebar-footer-middle\" class=\"sidebar-footer\">\n",
      "                <aside class=\"widget-container\">\n",
      "                    <div class=\"widget-wrapper clearfix\">\n",
      "                        <h3 class=\"widget-title\">Campus Location</h3>\n",
      "                        <article class=\"text-widget \">\n",
      "\t                        <iframe class=\"map-area\" src=\"https://www.google.com/maps/embed?pb=!1m18!1m12!1m3!1d3196.369861062225!2d127.28035150000001!3d36.761693699999995!2m3!1f0!2f0!3f0!3m2!1i1024!2i768!4f13.1!3m3!1m2!1s0x357b2ac0a5190d0f%3A0x24cddeffd416ef74!2z7LKc7JWI7IucIOuzkeyynOuptCDtlZzqta3quLDsiKDqtZDsnKHrjIDtlZnqtZAg6rO17ZWZNOq0gA!5e0!3m2!1sko!2skr!4v1428058842867\" width=\"600\" height=\"450\" frameborder=\"0\" style=\"border:0\"></iframe><br/>\n",
      "                    </div>\n",
      "                </aside>\n",
      "            </div>\n",
      "<div id=\"sidebar-footer-right\" class=\"sidebar-footer\">\n",
      "                <aside class=\"widget-container\">\n",
      "                    <h3 class=\"widget-title\">Contact CSE</h3>\n",
      "                <p>충청남도 천안시 동남구 병천면 충절로 1600<br/>한국기술교육대학교 컴퓨터공학부 학과사무실 <br/>TEL (041) 560 1460~1461<br/> FAX (041) 560 1462\n",
      "                <ul id=\"list-social\" class=\"clearfix\">\n",
      "                    <li id=\"icon-facebook\"><a href=\"https://www.facebook.com/pages/%ED%95%9C%EA%B5%AD%EA%B8%B0%EC%88%A0%EA%B5%90%EC%9C%A1%EB%8C%80%ED%95%99%EA%B5%90-%EC%BB%B4%ED%93%A8%ED%84%B0%EA%B3%B5%ED%95%99%EB%B6%80/288344217903811?fref=nf\">Facebook</a></li>\n",
      "                    <li id=\"icon-twitter\"><a href=\"#\">Twitter</a></li>\n",
      "                    <li id=\"icon-gplus\"><a href=\"#\">Google Plus</a></li>\n",
      "                    <li id=\"icon-linkedin\"><a href=\"#\">Linkedin</a></li>\n",
      "<!--                    <li id=\"icon-youtube\"><a href=\"#\">Youtube</a></li>\n",
      "                    <li id=\"icon-flickr\" class=\"last\"><a href=\"#\">Flickr</a></li>-->\n",
      "                </ul>\n",
      "                </aside>\n",
      "            </div>\n",
      "        </div>\n",
      "    </div>\n",
      "    <div id=\"footer-copyright\">\n",
      "        <div id=\"footer-copyright-content\" class=\"clearfix\">\n",
      "            <a href=\"#\" id=\"logo-footer\"><img src=\"/layouts/cse/images/cse_logo_footer.png\" data-retina=\"images/cse_logo_footer_retina.png\" alt=\"School Fun - University\" /></a>\n",
      "            <p id=\"text-address\">(31253) 충청남도 천안시 동남구 병천면 충절로 1600 (가전리, 한국기술교육대학교) 컴퓨터공학부 </p>\n",
      "            <p id=\"text-copyright\">Copyright © 2015. All rights reserved</p>\n",
      "        </div>\n",
      "    </div>\n",
      "</footer>\n",
      "<!-- main page footer end -->\n",
      "</body>\n",
      "</html>\n",
      "<!-- ETC -->\n",
      "<div class=\"wfsr\"></div>\n",
      "<script src=\"/addons/autolink/autolink.js?20150910092649\"></script><script src=\"/common/js/plugins/ui/jquery-ui.min.js?20150910092656\"></script><script src=\"/common/js/plugins/ui/jquery.ui.datepicker-ko.js?20150910092656\"></script><script src=\"/addons/resize_image/js/resize_image.min.js?20150910092650\"></script><script src=\"/layouts/cse/script/jquery.flexslider.js?20150805222706\"></script><script src=\"/layouts/cse/script/jquery.prettyPhoto.js?20150805222706\"></script><script src=\"/layouts/cse/script/jquery-ui-tabs-rotate.js?20150805222706\"></script><script src=\"/layouts/cse/script/scripts.js?20150821175206\"></script><script src=\"/files/cache/js_filter_compiled/5ad07e2b14b79f1c993c3e4b5ca58660.ko.compiled.js?20150910090632\"></script><script src=\"/files/cache/ruleset/85b80736b3cc92d07570521ad97a31d9.ko.js?20150910090632\"></script></body>\n",
      "</html>\n",
      "\n"
     ]
    }
   ],
   "source": [
    "import urllib2\n",
    "\n",
    "source = urllib2.urlopen(\"http://cse.kut.ac.kr/\").read()\n",
    "\n",
    "print source # 추후 숙제 답안 제출 때엔 왼쪽 라인은 주석처리할 것"
   ]
  },
  {
   "cell_type": "code",
   "execution_count": 42,
   "metadata": {
    "collapsed": false
   },
   "outputs": [
    {
     "name": "stdout",
     "output_type": "stream",
     "text": [
      "458\n"
     ]
    }
   ],
   "source": [
    "import urllib2\n",
    "\n",
    "s = urllib2.urlopen(\"http://cse.kut.ac.kr/\").read()\n",
    "\n",
    "a = s.find('<')\n",
    "s = s[a+1:]\n",
    "k = ''\n",
    "c = 0\n",
    "\n",
    "while( c != -1) :\n",
    "    b = s.find('>')\n",
    "    c = s.find('<')\n",
    "    if(c == -1):\n",
    "        k = k + ' ' + s[b+1:]\n",
    "    else:\n",
    "        k = k + ' ' + s[b+1:c]\n",
    "    s = s[c+1:]\n",
    "\n",
    "l = k.split()\n",
    "print len(l)\n"
   ]
  },
  {
   "cell_type": "markdown",
   "metadata": {},
   "source": [
    "### [Incremental Project] 나의 예시"
   ]
  },
  {
   "cell_type": "code",
   "execution_count": 43,
   "metadata": {
    "collapsed": false
   },
   "outputs": [
    {
     "name": "stdout",
     "output_type": "stream",
     "text": [
      " 로그인 유지 안녕 양희혜\n",
      "[u'\\ub85c\\uadf8\\uc778', u'\\uc720\\uc9c0', u'\\uc548\\ub155', u'\\uc591\\ud76c\\ud61c']\n",
      "4\n"
     ]
    }
   ],
   "source": [
    "s = u'<label for=\"keep_signed\">로그인 유지</label>안녕<sksjlkdj>양희혜'\n",
    "\n",
    "a = s.find('<')\n",
    "s = s[a+1:]\n",
    "k = ''\n",
    "c = 0\n",
    "\n",
    "while( c != -1) :\n",
    "    b = s.find('>')\n",
    "    c = s.find('<')\n",
    "    if(c == -1):\n",
    "        k = k + ' ' + s[b+1:]\n",
    "    else:\n",
    "        k = k + ' ' + s[b+1:c]\n",
    "    s = s[c+1:]\n",
    "print k\n",
    "\n",
    "l = k.split()\n",
    "print l \n",
    "print len(l)"
   ]
  },
  {
   "cell_type": "markdown",
   "metadata": {},
   "source": [
    "### 소감\n",
    "문제 5번 문제가 어려웠다. 갑자기 어려워진 기분이었다. 프로젝트 오일러 답을 제출하면 다른 사람들이 푼 방법이 나와있는데 거기에 더 좋은 방법으로 푸시는 분들이 많아서 놀라웠다."
   ]
  }
 ],
 "metadata": {
  "kernelspec": {
   "display_name": "Python 2",
   "language": "python",
   "name": "python2"
  },
  "language_info": {
   "codemirror_mode": {
    "name": "ipython",
    "version": 2
   },
   "file_extension": ".py",
   "mimetype": "text/x-python",
   "name": "python",
   "nbconvert_exporter": "python",
   "pygments_lexer": "ipython2",
   "version": "2.7.9"
  }
 },
 "nbformat": 4,
 "nbformat_minor": 0
}
