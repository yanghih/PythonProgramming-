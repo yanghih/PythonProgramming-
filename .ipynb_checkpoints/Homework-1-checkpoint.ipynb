{
 "cells": [
  {
   "cell_type": "markdown",
   "metadata": {},
   "source": [
    "## Assignment 1\n",
    "\n",
    "### 문제1. a=\"Hello Python\" 문자열을 Slicing과 연결 연산자 (+)를 사용하여 \"Python Hello\"로 변경하시오.\n",
    "  - [주의] a 변수 자체에 \"Python Hello\" 문자열이 저장되어야 함"
   ]
  },
  {
   "cell_type": "code",
   "execution_count": 2,
   "metadata": {
    "collapsed": false,
    "scrolled": true
   },
   "outputs": [
    {
     "name": "stdout",
     "output_type": "stream",
     "text": [
      "Python Hello\n"
     ]
    }
   ],
   "source": [
    "a = \"Hello Python\"\n",
    "a = a[6::] + a[5:6] + a[:5]\n",
    "print a"
   ]
  },
  {
   "cell_type": "markdown",
   "metadata": {},
   "source": [
    "->  a에 해당 문자열을 저장했습니다. a[6::]은 인덱스 6(P)부터 마지막(자료형의 크기)까지출력하는 것으로 Python이 출력됩니다. a[5:6]은 인덱스 5부터 인덱스 6(P)앞까지 이므로 빈칸이 출력됩니다. 마지막으로 a[:5]는 처음(인덱스 0)부터 인덱스 5(빈칸)앞까지 이므로 Hello가 출력됩니다. 앞에 슬라이싱 한 결과값들을 +로 연결해서 a 변수 자체에 변경된 문자열이 저장되게 하였습니다."
   ]
  },
  {
   "cell_type": "markdown",
   "metadata": {},
   "source": [
    "### 문제2. b=\"Hello Python World\" 문자열을 Slicing과 연결 연산자 (+)를 사용하여 \"World Python Hello\"로 변경하시오.\n",
    "  - [주의] b 변수 자체에 \"Python Hello\" 문자열이 저장되어야 함"
   ]
  },
  {
   "cell_type": "code",
   "execution_count": 3,
   "metadata": {
    "collapsed": false
   },
   "outputs": [
    {
     "name": "stdout",
     "output_type": "stream",
     "text": [
      "World Python Hello\n"
     ]
    }
   ],
   "source": [
    "b=\"Hello Python World\"\n",
    "b = b[13::] + b[5:13] + b[:5]\n",
    "print b"
   ]
  },
  {
   "cell_type": "markdown",
   "metadata": {},
   "source": [
    "->  b에 해당 문자열을 저장했습니다. b[13::]은 인덱스 13(W)부터 마지막(자료형의 크기)까지출력하는 것으로 World이 출력됩니다. b[5:13]은 인덱스 5부터 인덱스 13(W)앞까지 이므로 빈칸Python빈칸이 출력됩니다. 마지막으로 b[:5]는 처음(인덱스 0)부터 인덱스 5(빈칸)앞까지 이므로 Hello가 출력됩니다. 앞에 슬라이싱 한 결과값들을 +로 연결해서 b 변수 자체에 변경된 문자열이 저장되게 하였습니다."
   ]
  },
  {
   "cell_type": "markdown",
   "metadata": {},
   "source": [
    "### 문제3. c=\"Hello\"를 \"olleH\"로 변경하시오\n",
    "  - [주의] c 변수 자체에 \"olleH\" 문자열이 저장되어야 함"
   ]
  },
  {
   "cell_type": "code",
   "execution_count": 4,
   "metadata": {
    "collapsed": false
   },
   "outputs": [
    {
     "name": "stdout",
     "output_type": "stream",
     "text": [
      "olleH\n"
     ]
    }
   ],
   "source": [
    "c = \"Hello\"\n",
    "c = c[::-1]\n",
    "print c"
   ]
  },
  {
   "cell_type": "markdown",
   "metadata": {},
   "source": [
    "-> c에 해당 문자열을 저장했습니다. c[::-1]은 문자열을 거꾸로 뒤집어 가져옵니다. 슬라이싱 한 결과값을 c 변수 자체에 변경된 문자열이 저장되게 하였습니다."
   ]
  },
  {
   "cell_type": "markdown",
   "metadata": {},
   "source": [
    "### 문제 4. s=\"python\"에 대해 다음 문제를 풀어보시오.\n",
    "  1. s[0], s[0][0], s[0][0][0]은 각각 어떤 값이 나오는지 확인하고 그 이유를 나름대로 설명해 보시오.\n",
    "  2. s[-100], s[100]은 값이 나오는지 에러가 나오는지 확인하고 그 결과에 대한 이유를 나름대로 설명해 보시오.\n",
    "  3. s[-100, 100]은 값이 나오는지 에러가 나오는지 확인하고 그 결과에 대한 이유를 나름대로 설명해 보시오.\n",
    "  4. s[1:-1]의 결과를 확인하고 그 결과에 대한 이유를 정확하게 설명하시오.\n",
    "  5. s[3:-3]의 결과를 확인하고 그 결과에 대한 이유를 정확하게 설명하시오."
   ]
  },
  {
   "cell_type": "code",
   "execution_count": 4,
   "metadata": {
    "collapsed": false
   },
   "outputs": [
    {
     "name": "stdout",
     "output_type": "stream",
     "text": [
      "p p p\n"
     ]
    }
   ],
   "source": [
    "# 1.\n",
    "s = \"python\"\n",
    "print s[0], s[0][0], s[0][0][0]"
   ]
  },
  {
   "cell_type": "markdown",
   "metadata": {},
   "source": [
    "-> s[0]은 인덱스가 0인 p, s[0][0]은 s[0]중에서도 [0]이므로 p를 출력, s[0][0][0]도 s[0][0]중에서도 [0]이므로 p를 출력"
   ]
  },
  {
   "cell_type": "code",
   "execution_count": 39,
   "metadata": {
    "collapsed": false
   },
   "outputs": [
    {
     "ename": "IndexError",
     "evalue": "string index out of range",
     "output_type": "error",
     "traceback": [
      "\u001b[1;31m---------------------------------------------------------------------------\u001b[0m",
      "\u001b[1;31mIndexError\u001b[0m                                Traceback (most recent call last)",
      "\u001b[1;32m<ipython-input-39-bcadc273755d>\u001b[0m in \u001b[0;36m<module>\u001b[1;34m()\u001b[0m\n\u001b[0;32m      1\u001b[0m \u001b[1;31m# 2.\u001b[0m\u001b[1;33m\u001b[0m\u001b[1;33m\u001b[0m\u001b[0m\n\u001b[1;32m----> 2\u001b[1;33m \u001b[1;32mprint\u001b[0m \u001b[0ms\u001b[0m\u001b[1;33m[\u001b[0m\u001b[1;33m-\u001b[0m\u001b[1;36m100\u001b[0m\u001b[1;33m]\u001b[0m\u001b[1;33m,\u001b[0m \u001b[0ms\u001b[0m\u001b[1;33m[\u001b[0m\u001b[1;36m100\u001b[0m\u001b[1;33m]\u001b[0m\u001b[1;33m\u001b[0m\u001b[0m\n\u001b[0m",
      "\u001b[1;31mIndexError\u001b[0m: string index out of range"
     ]
    }
   ],
   "source": [
    "# 2.\n",
    "print s[-100], s[100]"
   ]
  },
  {
   "cell_type": "markdown",
   "metadata": {},
   "source": [
    "-> string index out of range -> range의 범위를 초과한다."
   ]
  },
  {
   "cell_type": "code",
   "execution_count": 41,
   "metadata": {
    "collapsed": false
   },
   "outputs": [
    {
     "ename": "TypeError",
     "evalue": "string indices must be integers, not tuple",
     "output_type": "error",
     "traceback": [
      "\u001b[1;31m---------------------------------------------------------------------------\u001b[0m",
      "\u001b[1;31mTypeError\u001b[0m                                 Traceback (most recent call last)",
      "\u001b[1;32m<ipython-input-41-8e401b41bd82>\u001b[0m in \u001b[0;36m<module>\u001b[1;34m()\u001b[0m\n\u001b[0;32m      1\u001b[0m \u001b[1;31m# 3.\u001b[0m\u001b[1;33m\u001b[0m\u001b[1;33m\u001b[0m\u001b[0m\n\u001b[1;32m----> 2\u001b[1;33m \u001b[1;32mprint\u001b[0m \u001b[0ms\u001b[0m\u001b[1;33m[\u001b[0m\u001b[1;33m-\u001b[0m\u001b[1;36m100\u001b[0m\u001b[1;33m,\u001b[0m \u001b[1;36m100\u001b[0m\u001b[1;33m]\u001b[0m\u001b[1;33m\u001b[0m\u001b[0m\n\u001b[0m",
      "\u001b[1;31mTypeError\u001b[0m: string indices must be integers, not tuple"
     ]
    }
   ],
   "source": [
    "# 3.\n",
    "print s[-100, 100]"
   ]
  },
  {
   "cell_type": "markdown",
   "metadata": {},
   "source": [
    "-> TypeError: string indices must be integers, not tuple. -> 타입 에러이다. 문자열 색인은 정수여야 한다. 튜플이 아니다."
   ]
  },
  {
   "cell_type": "code",
   "execution_count": 42,
   "metadata": {
    "collapsed": false
   },
   "outputs": [
    {
     "name": "stdout",
     "output_type": "stream",
     "text": [
      "ytho\n"
     ]
    }
   ],
   "source": [
    "# 4.\n",
    "print s[1:-1]"
   ]
  },
  {
   "cell_type": "markdown",
   "metadata": {},
   "source": [
    "-> s[1:-1] = s[1:5]이므로 ytho까지 출력된다."
   ]
  },
  {
   "cell_type": "code",
   "execution_count": 5,
   "metadata": {
    "collapsed": false
   },
   "outputs": [
    {
     "name": "stdout",
     "output_type": "stream",
     "text": [
      "\n"
     ]
    }
   ],
   "source": [
    "# 5.\n",
    "print s[3:-3]"
   ]
  },
  {
   "cell_type": "markdown",
   "metadata": {},
   "source": [
    "-> s[3:-3] = s[3:3]입니다. 아무값도 출력되지 않습니다. (시작할 인덱스보다 끝낼 인덱스(제외)가 앞에 있다면 아무 값도 출력되지 않습니다. ) "
   ]
  },
  {
   "cell_type": "markdown",
   "metadata": {},
   "source": [
    "### 문제 5. for문을 활용하여 1부터 100사이의 홀수를 출력하시오."
   ]
  },
  {
   "cell_type": "code",
   "execution_count": 22,
   "metadata": {
    "collapsed": false
   },
   "outputs": [
    {
     "name": "stdout",
     "output_type": "stream",
     "text": [
      "1 3 5 7 9 11 13 15 17 19 21 23 25 27 29 31 33 35 37 39 41 43 45 47 49 51 53 55 57 59 61 63 65 67 69 71 73 75 77 79 81 83 85 87 89 91 93 95 97 99\n"
     ]
    }
   ],
   "source": [
    "num = 0\n",
    "for x in range(1,51):\n",
    "    num = 2 * x - 1\n",
    "    print num,"
   ]
  },
  {
   "cell_type": "markdown",
   "metadata": {},
   "source": [
    "-> for문으로 x가 1부터 50까지 (51포함 안함) 돌게 하고 2x-1인 홀수를 만들어주는 수식을 num에 넣고 num(홀수)를 출력하도록 하였다. "
   ]
  },
  {
   "cell_type": "markdown",
   "metadata": {},
   "source": [
    "###문제 6. while문을 활용하여 1부터 100사이의 짝수의 합을 계산하여 출력하시오."
   ]
  },
  {
   "cell_type": "code",
   "execution_count": 29,
   "metadata": {
    "collapsed": false
   },
   "outputs": [
    {
     "name": "stdout",
     "output_type": "stream",
     "text": [
      "2550\n"
     ]
    }
   ],
   "source": [
    "x = 2\n",
    "sum = 0\n",
    "while x <= 100:\n",
    "    sum += x\n",
    "    x += 2\n",
    "print sum"
   ]
  },
  {
   "cell_type": "markdown",
   "metadata": {},
   "source": [
    "-> while문을 이용하여 x가 100이 될때까지 돌고 그 안에서 x를 계속 +2해줌으로써 짝수로 만든다. 그리고 x가 100이 되면 while문이 실행되고 sum은 1~100사이의 짝수의 합이 되고 x는 다시 102가 된다. 그러므로 while문이 종료되면서 sum이 출력된다."
   ]
  },
  {
   "cell_type": "markdown",
   "metadata": {},
   "source": [
    "### 문제 7. 사용자로 부터 임의의 정수를 입력받고, 해당 숫자를 역순으로 출력하는 프로그램을 작성하시오.\n",
    "  - [실행 예]\n",
    "  \n",
    "    정수를 입력하세요: 3125\n",
    "    \n",
    "    숫자 역순은 5213 입니다"
   ]
  },
  {
   "cell_type": "code",
   "execution_count": 10,
   "metadata": {
    "collapsed": false
   },
   "outputs": [
    {
     "name": "stdout",
     "output_type": "stream",
     "text": [
      "num? : 3125\n",
      "숫자 역순은 5213 입니다\n"
     ]
    }
   ],
   "source": [
    "num = raw_input('num? : ')\n",
    "print '숫자 역순은 ' + num[::-1] + ' 입니다'"
   ]
  },
  {
   "cell_type": "markdown",
   "metadata": {},
   "source": [
    "-> raw_input으로 문자열을 입력받고 그 문자열을 [::-1]해줌으로써 역순을 출력한다."
   ]
  },
  {
   "cell_type": "markdown",
   "metadata": {},
   "source": [
    "### 문제 8. 사용자로 부터 정수를 입력받아서 1부터 그 사이에 존재하는 소수 (Prime number)를 출력하는 파이썬 프로그램을 작성하시오."
   ]
  },
  {
   "cell_type": "code",
   "execution_count": 28,
   "metadata": {
    "collapsed": false
   },
   "outputs": [
    {
     "name": "stdout",
     "output_type": "stream",
     "text": [
      "num? : 31\n",
      "2 3 5 7 11 13 17 19 23 29 31\n"
     ]
    }
   ],
   "source": [
    "num = int(raw_input('num? : '))\n",
    "for x in range(2, num+1):\n",
    "    for y in range(2, x+1):\n",
    "        if x % y ==0:\n",
    "            break\n",
    "    if(x == y):\n",
    "        print x,"
   ]
  },
  {
   "cell_type": "markdown",
   "metadata": {},
   "source": [
    "-> raw_input으로 받은 문자열을 int 정수형으로 바꿔준다. 그것은 range범위 안에 집어넣고 x가 2부터 num까지 돌게한다. 그리고 그 안에서 y도 2부터 x까지 돌게한다. 만약 여기서 x가 y로 나눴을 때 나머지가 0이면 break로 for문이 나가게 되고 if문으로 x == y인지 확인을 한다. 소수는 양의 약수로 1과 자신만을 가진 자연수 이기 때문에 이 작업은 자기 자신과 같다면 소수 이므로 출력하는 것이다. "
   ]
  },
  {
   "cell_type": "markdown",
   "metadata": {
    "collapsed": true
   },
   "source": [
    "### 프로젝트 오일러 1)\n",
    "  - 10보다 작은 자연수 중에서 3 또는 5의 배수는 3, 5, 6, 9 이고, 이것을 모두 더하면 23입니다. 1000보다 작은 자연수 중에서 3 또는 5의 배수를 모두 더하면 얼마일까요?"
   ]
  },
  {
   "cell_type": "code",
   "execution_count": 7,
   "metadata": {
    "collapsed": false
   },
   "outputs": [
    {
     "name": "stdout",
     "output_type": "stream",
     "text": [
      "233168\n"
     ]
    }
   ],
   "source": [
    "sum = 0\n",
    "for x in range(1, 1000):\n",
    "    if x %3 == 0 or x % 5 == 0:\n",
    "        sum += x\n",
    "print sum"
   ]
  },
  {
   "cell_type": "markdown",
   "metadata": {},
   "source": [
    "-> range(1,1000)으로 x가 1~999까지 돈다. 만약 x가 3 또는 5의 배수로 떨어지면 나머지가 0일 것이므로 if x % 3 == 0 or x % 5 == 0 해주므로써 3 또는 5의 배수를 찾는다. 그리고 그것들의 합을 sum으로 저장해두고 sum을 출력한다."
   ]
  },
  {
   "cell_type": "markdown",
   "metadata": {},
   "source": [
    "### 프로젝트 오일러 2)\n",
    "  - 피보나치 수열의 각 항은 바로 앞의 항 두 개를 더한 것이 됩니다. 1과 2로 시작하는 경우 이 수열은 아래와 같습니다. 1, 2, 3, 5, 8, 13, 21, 34, 55, 89, ...짝수이면서 4백만 이하인 모든 항을 더하면 얼마가 됩니까?"
   ]
  },
  {
   "cell_type": "code",
   "execution_count": 9,
   "metadata": {
    "collapsed": false
   },
   "outputs": [
    {
     "name": "stdout",
     "output_type": "stream",
     "text": [
      "4613732\n"
     ]
    }
   ],
   "source": [
    "sum = 2\n",
    "x = 1\n",
    "y = 2\n",
    "while (y <= 4000000):\n",
    "    z = x + y\n",
    "    if z % 2 == 0:\n",
    "        sum += z\n",
    "    x = y\n",
    "    y = z\n",
    "print sum"
   ]
  },
  {
   "cell_type": "markdown",
   "metadata": {},
   "source": [
    "-> x, y초기값을 1, 2로 둔다. sum도 초기값 2를준다.(짝수이므로 미리 더해둔다.) 그리고 while문을 통해서 y가 4백만이하일때까지 돌게 한다. z는 x + y값이고 이 z가 만약 짝수이면 sum에 더해준다. 그리고 나서 y는 x가되고 z는 y가 되고 y가 4백만이하일때까지 돌고 sum을 출력한다."
   ]
  },
  {
   "cell_type": "markdown",
   "metadata": {},
   "source": [
    "### 프로젝트 오일러 3)\n",
    "  - 어떤 수를 소수의 곱으로만 나타내는 것을 소인수분해라 하고, 이 소수들을 그 수의 소인수라고 합니다. 예를 들면 13195의 소인수는 5, 7, 13, 29 입니다. 600851475143의 소인수 중에서 가장 큰 수를 구하세요."
   ]
  },
  {
   "cell_type": "code",
   "execution_count": 19,
   "metadata": {
    "collapsed": false
   },
   "outputs": [
    {
     "name": "stdout",
     "output_type": "stream",
     "text": [
      "6857\n"
     ]
    }
   ],
   "source": [
    "num = 600851475143\n",
    "a = 2\n",
    "while(num >1) :\n",
    "    while(a<=num):\n",
    "        if num % a == 0:\n",
    "            num = num / a\n",
    "            continue\n",
    "        else:\n",
    "            a += 1\n",
    "print a"
   ]
  },
  {
   "cell_type": "markdown",
   "metadata": {},
   "source": [
    "->  600851475143을 num으로 지정하고, a = 2로 num을 a로 계속 나누어준다. 여기서 if문을 이용해서 나눠줘서 나누어 떨어진다면 그 나눈 값의 몫을 num에 대입하고 continue를 이용해서 계속 if문이 실행되도록 한다. 만약에 나누어떨어지지 않으면 a를 +1해주고 그 값으로 위에 처럼 실행되게 한다. num이 다 나눠지게 되면 최종적으로 1이 되므로 1이 되면 while문을 빠져 나오고 마지막으로 나눠준 a(소인수)값이 소인수 중에서 가장 큰 수 이게 된다. "
   ]
  },
  {
   "cell_type": "markdown",
   "metadata": {},
   "source": [
    "### 소감\n",
    "  파이썬이라는 언어를 처음 배우지만 교수님 말씀처럼 이번 학기에 이 과목을 들음으로써 파이썬이을 완전히 잘 이해하고 얻어가기 위해 열심히 따라가려고 노력하고 있습니다. \n",
    "  숙제는 이러닝 강의에 대한 내용으로 응용하면서 풀 수 있었고 프로젝트 오일러는 어려웠지만 계속 고민하고 해결하려고 했습니다. 프로젝트 오일러에서 문제에 대한 이해가 부족해서 조교님께도 질문을 통해 이해했습니다.  "
   ]
  }
 ],
 "metadata": {
  "kernelspec": {
   "display_name": "Python 2",
   "language": "python",
   "name": "python2"
  },
  "language_info": {
   "codemirror_mode": {
    "name": "ipython",
    "version": 2
   },
   "file_extension": ".py",
   "mimetype": "text/x-python",
   "name": "python",
   "nbconvert_exporter": "python",
   "pygments_lexer": "ipython2",
   "version": "2.7.9"
  }
 },
 "nbformat": 4,
 "nbformat_minor": 0
}
