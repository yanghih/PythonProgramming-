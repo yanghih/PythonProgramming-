{
 "cells": [
  {
   "cell_type": "code",
   "execution_count": 9,
   "metadata": {
    "collapsed": false
   },
   "outputs": [
    {
     "name": "stdout",
     "output_type": "stream",
     "text": [
      "['a', 'c', 'b']\n"
     ]
    }
   ],
   "source": [
    "class A:\n",
    "    def __init__(self):\n",
    "        \n",
    "    def p(self):\n",
    "        y ={'a' : 1, 'b':2, 'c':3}\n",
    "        return y\n",
    "        \n",
    "class B(A):\n",
    "    def p(self):\n",
    "        print list(A.p(self))\n",
    "        \n",
    "        \n",
    "e = B()\n",
    "e.p()"
   ]
  },
  {
   "cell_type": "code",
   "execution_count": 14,
   "metadata": {
    "collapsed": false
   },
   "outputs": [
    {
     "name": "stdout",
     "output_type": "stream",
     "text": [
      "3\n",
      "7\n",
      "\n",
      "0\n",
      "1\n",
      "4\n"
     ]
    }
   ],
   "source": [
    "class HyperClass:\n",
    "    pass\n",
    "\n",
    "class SuperClass(HyperClass):\n",
    "    def __init__(self, x):\n",
    "        self.a = x\n",
    "    \n",
    "    def print_all(self):\n",
    "        print(self.a)\n",
    "\n",
    "\n",
    "class SubClass(SuperClass):   # SuperClass 를 상속\n",
    "    def __init__(self, x, y):\n",
    "        SuperClass.__init__(self, x)    # unbound method call\n",
    "        self.b = y\n",
    "\n",
    "    def print_all(self):     # method override\n",
    "        SuperClass.print_all(self)    # unbound method call\n",
    "        print(self.b)\n",
    "    \n",
    "    def __getitem__(self, k):\n",
    "        if k < 0 or  self.a <= k:\n",
    "            raise IndexError, k\n",
    "        return k*k\n",
    "        \n",
    "\n",
    "s = SubClass(3, 7)\n",
    "s.print_all()\n",
    "print \n",
    "\n",
    "for i in s:\n",
    "    print i"
   ]
  },
  {
   "cell_type": "code",
   "execution_count": 11,
   "metadata": {
    "collapsed": false
   },
   "outputs": [
    {
     "data": {
      "text/plain": [
       "1"
      ]
     },
     "execution_count": 11,
     "metadata": {},
     "output_type": "execute_result"
    }
   ],
   "source": [
    "def dd():\n",
    "    y = 1\n",
    "    return y\n",
    "\n",
    "def cc():\n",
    "    z = 1\n",
    "    return z\n",
    "\n",
    "dd()\n"
   ]
  },
  {
   "cell_type": "code",
   "execution_count": 12,
   "metadata": {
    "collapsed": false
   },
   "outputs": [
    {
     "data": {
      "text/plain": [
       "1"
      ]
     },
     "execution_count": 12,
     "metadata": {},
     "output_type": "execute_result"
    }
   ],
   "source": [
    "cc()\n"
   ]
  },
  {
   "cell_type": "code",
   "execution_count": 27,
   "metadata": {
    "collapsed": false
   },
   "outputs": [
    {
     "name": "stdout",
     "output_type": "stream",
     "text": [
      "('a', 1)\n",
      "('b', 2)\n",
      "('c', 3)\n"
     ]
    }
   ],
   "source": [
    "import urllib2\n",
    "import string\n",
    "import pickle\n",
    "from operator import itemgetter\n",
    "\n",
    "def cc():\n",
    "    y ={'a' : 1, 'b':2, 'c':3}\n",
    "    z = []\n",
    "    z = (sorted(y.iteritems(), key=itemgetter(1), reverse=False))\n",
    "    if len(z) < 0 or  z <= len(z):\n",
    "        raise IndexError, k \n",
    "    for x in z:\n",
    "        print x\n",
    "\n",
    "cc()"
   ]
  },
  {
   "cell_type": "code",
   "execution_count": null,
   "metadata": {
    "collapsed": true
   },
   "outputs": [],
   "source": [
    "    \n",
    "    def __getitem__(self, k):\n",
    "        z = getWordsFrequency(self, reverse = False)\n",
    "        if len(z) < 0 or  z <= len(z):\n",
    "            raise IndexError, k \n",
    "        for x in z:\n",
    "            print x"
   ]
  }
 ],
 "metadata": {
  "kernelspec": {
   "display_name": "Python 2",
   "language": "python",
   "name": "python2"
  },
  "language_info": {
   "codemirror_mode": {
    "name": "ipython",
    "version": 2
   },
   "file_extension": ".py",
   "mimetype": "text/x-python",
   "name": "python",
   "nbconvert_exporter": "python",
   "pygments_lexer": "ipython2",
   "version": "2.7.9"
  }
 },
 "nbformat": 4,
 "nbformat_minor": 0
}
