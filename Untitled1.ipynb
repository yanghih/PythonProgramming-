{
 "cells": [
  {
   "cell_type": "code",
   "execution_count": 1,
   "metadata": {
    "collapsed": false
   },
   "outputs": [
    {
     "name": "stdout",
     "output_type": "stream",
     "text": [
      "<!DOCTYPE html>\n",
      "<html lang=\"ko\">\n",
      "<head>\n",
      "<!-- META -->\n",
      "<meta charset=\"utf-8\">\n",
      "<meta name=\"Generator\" content=\"XpressEngine\">\n",
      "<meta http-equiv=\"X-UA-Compatible\" content=\"IE=edge\">\n",
      "<!-- TITLE -->\n",
      "<title>컴퓨터공학부</title>\n",
      "<!-- CSS -->\n",
      "<link rel=\"stylesheet\" href=\"/common/css/xe.min.css?20150910092654\" />\n",
      "<link rel=\"stylesheet\" href=\"/layouts/cse/style/prettyPhoto.css?20150805222706\" />\n",
      "<link rel=\"stylesheet\" href=\"/layouts/cse/style/stylemobile.css?20150805222706\" />\n",
      "<link rel=\"stylesheet\" href=\"/layouts/cse/style/mobilenavigation.css?20150805222706\" />\n",
      "<link rel=\"stylesheet\" href=\"/modules/editor/styles/ckeditor_light/style.css?20150910092713\" />\n",
      "<link rel=\"stylesheet\" href=\"/widgets/login_info/skins/cse_login_info_2015/default.login.css?20150420232234\" />\n",
      "<link rel=\"stylesheet\" href=\"/widgets/content_cse/skins/cse_latest_2015/css/widget.css?20150625005943\" />\n",
      "<link rel=\"stylesheet\" href=\"/addons/font_nanum_gothic/font-nanum_gothic.css?20150429141819\" />\n",
      "<link rel=\"stylesheet\" href=\"/files/faceOff/664/070/layout.css?20150908002626\" />\n",
      "<!-- JS -->\n",
      "<!--[if lt IE 9]><script src=\"/common/js/jquery-1.x.min.js?20150910092655\"></script>\n",
      "<![endif]--><!--[if gte IE 9]><!--><script src=\"/common/js/jquery.min.js?20150910092655\"></script>\n",
      "<!--<![endif]--><script src=\"/common/js/x.min.js?20150910092655\"></script>\n",
      "<script src=\"/common/js/xe.min.js?20150910092655\"></script>\n",
      "<script src=\"/layouts/cse/script/modernizr.js?20150805222706\"></script>\n",
      "<script src=\"/widgets/login_info/skins/cse_login_info_2015/default.login.js?20150420232234\"></script>\n",
      "<script src=\"/widgets/content_cse/skins/cse_latest_2015/js/content_widget.js?20150422211442\"></script>\n",
      "<!-- RSS -->\n",
      "<link rel=\"alternate\" type=\"application/rss+xml\" title=\"Site RSS\" href=\"https://cse.kut.ac.kr/rss\" /><link rel=\"alternate\" type=\"application/atom+xml\" title=\"Site Atom\" href=\"https://cse.kut.ac.kr/atom\" /><!-- ICON -->\n",
      "<link rel=\"shortcut icon\" href=\"https://cse.koreatech.ac.kr/files/attach/xeicon/favicon.ico\" />\n",
      "\n",
      "<link href='https://fonts.googleapis.com/css?family=Raleway:400,700,300,900' rel='stylesheet' type='text/css' />\n",
      "<link href='https://fonts.googleapis.com/css?family=Nunito:400,300,700' rel='stylesheet' type='text/css' />\n",
      "<link rel=\"stylesheet\" href=\"//fonts.googleapis.com/earlyaccess/nanumgothic.css\" />\n",
      "<meta charset=\"utf-8\" />\n",
      "<meta name=\"viewport\" content=\"width=device-width, initial-scale=1.0\" />\n",
      "<meta name=\"description\" content=\"Website Description\" />\n",
      "<meta name=\"keywords\" content=\"Website Keywords\" /><script>\n",
      "//<![CDATA[\n",
      "var current_url = \"https://cse.kut.ac.kr/\";\n",
      "var request_uri = \"https://cse.kut.ac.kr/\";\n",
      "var current_mid = \"home_2015\";\n",
      "var waiting_message = \"서버에 요청 중입니다. 잠시만 기다려주세요.\";\n",
      "var ssl_actions = new Array();\n",
      "var default_url = \"https://cse.koreatech.ac.kr/\";\n",
      "var enforce_ssl = true;xe.current_lang = \"ko\";\n",
      "xe.cmd_find = \"찾기\";\n",
      "xe.cmd_cancel = \"취소\";\n",
      "xe.cmd_confirm = \"확인\";\n",
      "xe.msg_no_root = \"루트는 선택 할 수 없습니다.\";\n",
      "xe.msg_no_shortcut = \"바로가기는 선택 할 수 없습니다.\";\n",
      "xe.msg_select_menu = \"대상 메뉴 선택\";\n",
      "//]]>\n",
      "</script>\n",
      "</head>\n",
      "<body>\n",
      "<!DOCTYPE html>\n",
      "<html lang=\"ko\">\n",
      "<head>\n",
      "\t\n",
      "\t<title>Schoolfun - Study and Fun</title>\n",
      "\t\n",
      "\t\n",
      "\t\n",
      "\t\t\n",
      "\t\n",
      "\t\n",
      "\t\t<!--  -->\n",
      "\t\t\t\n",
      "</head>\n",
      "<body class=\"\">\n",
      "<header id=\"main-header\" class=\"clearfix\">\n",
      "\t<div id=\"header-full\" class=\"clearfix\">\n",
      "\t\t<div id=\"header\" class=\"clearfix\">\n",
      "\t\t\t<a href=\"#nav\" class=\"open-menu\">\n",
      "\t\t\t\t<span class=\"icon-bar\"></span>\n",
      "\t\t\t\t<span class=\"icon-bar\"></span>\n",
      "\t\t\t\t<span class=\"icon-bar\"></span>\n",
      "\t\t\t</a>\n",
      "\t\t\t<a href=\"https://cse.kut.ac.kr/\" id=\"logo\"><img src=\"/layouts/cse/images/cse_logo.png\" data-retina=\"images/cse_logo.png\" alt=\"School Fun - WordPress Theme\" /></a>\n",
      "\t\t\t<aside id=\"header-content\">\n",
      "\t\t\t\t<!--\n",
      "\t\t\t\t<form method=\"post\" action=\"#\" id=\"searchform\"><input type=\"hidden\" name=\"error_return_url\" value=\"/\" /><input type=\"hidden\" name=\"act\" value=\"\" /><input type=\"hidden\" name=\"mid\" value=\"home_2015\" /><input type=\"hidden\" name=\"vid\" value=\"\" />\n",
      "\t\t\t\t\t<div>\t\t\t\t\t</div>\n",
      "\t\t\t\t</form>\n",
      "\t\t\t\t-->\n",
      "\t\t\t\t<ul id=\"nav-header\" style=\"\">\t\t\t\t\t\n",
      "\t\t\t\t\t<li><div class=\"xe-widget-wrapper \" style=\"\"><div style=\"*zoom:1;padding:0px 0px 0px 0px !important;\"><form id=\"fo_login_widget\" action=\"https://cse.koreatech.ac.kr/index.php?act=procMemberLogin\" method=\"post\"  class=\"account\"><input type=\"hidden\" name=\"error_return_url\" value=\"/\" /><input type=\"hidden\" name=\"mid\" value=\"home_2015\" /><input type=\"hidden\" name=\"vid\" value=\"\" /><input type=\"hidden\" name=\"ruleset\" value=\"@login\" />\n",
      "\t<a href=\"#acField\">로그인</a>\n",
      "\t<fieldset id=\"acField\">\n",
      "\t\t<h2>로그인</h2>\n",
      "\t\t<input type=\"hidden\" name=\"act\" value=\"procMemberLogin\" />\n",
      "\t\t<input type=\"hidden\" name=\"success_return_url\" value=\"/\" />\n",
      "\t\t<input type=\"hidden\" name=\"xe_validator_id\" value=\"widgets/login_info/skins/default/login_form/1\" />\n",
      "\t\t\t\t<div class=\"idpw\">\n",
      "\t\t\t<label for=\"user_id\">아이디</label>\t\t\t<input name=\"user_id\" id=\"user_id\" type=\"text\" required />\t\t\t\t\t\t\t\t\t<label for=\"user_pw\">비밀번호</label>\n",
      "\t\t\t<input name=\"password\" id=\"user_pw\" type=\"password\" required />\n",
      "\t\t\t<p class=\"keep\">\n",
      "\t\t\t\t<input type=\"checkbox\" name=\"keep_signed\" id=\"keep_signed\" value=\"Y\" />\n",
      "\t\t\t\t<label for=\"keep_signed\">로그인 유지</label>\n",
      "\t\t\t</p>\n",
      "\t\t\t<p class=\"warning\">브라우저를 닫더라도 로그인이 계속 유지될 수 있습니다. 로그인 유지 기능을 사용할 경우 다음 접속부터는 로그인할 필요가 없습니다. 단, 게임방, 학교 등 공공장소에서 이용 시 개인정보가 유출될 수 있으니 꼭 로그아웃을 해주세요.</p>\n",
      "\t\t</div>\n",
      "\t\t<input type=\"submit\" value=\"로그인\" />\n",
      "\t\t<ul class=\"help\">\n",
      "\t\t\t<li><a href=\"https://cse.koreatech.ac.kr/index.php?mid=home_2015&amp;act=dispMemberSignUpForm\">회원가입</a></li>\n",
      "\t\t\t<li><a href=\"https://cse.koreatech.ac.kr/index.php?mid=home_2015&amp;act=dispMemberFindAccount\">ID/PW 찾기</a></li>\n",
      "\t\t</ul>\n",
      "\t</fieldset>\n",
      "</form>\n",
      "</div></div></li>\n",
      "\t\t\t\t</ul>\n",
      "\t\t\t\t<h3 id=\"slogan\" style=\"font-family:'Nanum Gothic', serif\">IT 교육의 글로벌 메카!<br/>한국기술교육대학교 컴퓨터공학부</h3>\n",
      "\t\t\t</aside>\n",
      "\t\t</div>\n",
      "\t</div>\n",
      "\t<nav id=\"nav\" class=\"clearfix\">\n",
      "\t\t<a href=\"#\" class=\"close-menu-big\">Close</a>\n",
      "\t\t<div id=\"nav-container\">\n",
      "\t\t\t<a href=\"#\" class=\"close-menu\">\n",
      "\t\t\t\t<span class=\"icon-bar\"></span>\n",
      "\t\t\t\t<span class=\"icon-bar\"></span>\n",
      "\t\t\t\t<span class=\"icon-bar\"></span>\n",
      "\t\t\t</a>\n",
      "\t\t\t<ul id=\"nav-main\">\n",
      "\t\t\t\t\t\t\t\t<li>\n",
      "\t\t\t\t\t\t\t\t\t\t<a href=\"https://cse.koreatech.ac.kr/intro_home_2015\" >소개</a>\n",
      "\t\t\t\t\t\t\t\t\t\t\n",
      "\t\t\t\t</li>\n",
      "\t\t\t\t\t\t\t\t\t\t\t\t\t<li>\n",
      "\t\t\t\t\t\t\t\t\t\t<a href=\"https://cse.koreatech.ac.kr/page_KbyV58\" >구성원소개</a>\n",
      "\t\t\t\t\t\t\t\t\t\t\n",
      "\t\t\t\t</li>\n",
      "\t\t\t\t\t\t\t\t\t\t\t\t\t<li>\n",
      "\t\t\t\t\t\t\t\t\t\t<a href=\"https://cse.koreatech.ac.kr/page_izgw21\" >학사안내</a>\n",
      "\t\t\t\t\t\t\t\t\t\t\n",
      "\t\t\t\t</li>\n",
      "\t\t\t\t\t\t\t\t\t\t\t\t\t<li>\n",
      "\t\t\t\t\t\t\t\t\t\t<a href=\"#\">입학</a>\n",
      "\t\t\t\t\t<ul>\n",
      "                        <li><a href=\"http://www.koreatech.ac.kr/admission.do\" target=\"_blank\">학부</a></li>\n",
      "                        <li><a href=\"http://www.koreatech.ac.kr/grd/sub02_01_01_01.do\" target=\"_blank\">대학원</a></li>\n",
      "                    </ul>\n",
      "\t\t\t\t\t\t\t\t\t\t\n",
      "\t\t\t\t</li>\n",
      "\t\t\t\t\t\t\t\t\t\t\t\t\t<li>\n",
      "\t\t\t\t\t\t\t\t\t\t<a href=\"https://cse.koreatech.ac.kr/notice\" >학부광장</a>\n",
      "\t\t\t\t\t\t\t\t\t\t\n",
      "\t\t\t\t</li>\n",
      "\t\t\t\t\t\t\t\t\t\t\t\t\t<li>\n",
      "\t\t\t\t\t\t\t\t\t\t<a href=\"https://cse.koreatech.ac.kr/pds\" >자료실</a>\n",
      "\t\t\t\t\t\t\t\t\t\t\n",
      "\t\t\t\t</li>\n",
      "\t\t\t\t\t\t\t\t\t\t\t\t\t<li>\n",
      "\t\t\t\t\t\t\t\t\t\t<a href=\"https://cse.koreatech.ac.kr/page_birW64\" >대학원</a>\n",
      "\t\t\t\t\t\t\t\t\t\t\n",
      "\t\t\t\t</li>\n",
      "\t\t\t\t\t\t\t\t\t\t\t\t\t<li>\n",
      "\t\t\t\t\t\t\t\t\t\t<a href=\"https://cse.koreatech.ac.kr/page_vBGH80\" >공학교육인증</a>\n",
      "\t\t\t\t\t\t\t\t\t\t\n",
      "\t\t\t\t</li>\n",
      "\t\t\t\t\t\t\t\t\t\t\t\t\t<li>\n",
      "\t\t\t\t\t\t\t\t\t\t<a href=\"\" ></a>\n",
      "\t\t\t\t\t\t\t\t\t\t\n",
      "\t\t\t\t</li>\n",
      "\t\t\t\t\t\t\t\t\t\t\t\t\t\n",
      "\t\t\t</ul>\n",
      "                        \t\t\t<a href=\"https://cse.koreatech.ac.kr/index.php?mid=home_2015&amp;act=dispMemberSignUpForm\" id=\"button-registration\">Registration</a>\n",
      "                        \t\t</div>\n",
      "\t</nav>\n",
      "</header>      \n",
      "\t        \t        \n",
      "<!-- main image tab start -->\n",
      "<div id=\"slideshow-tabs\" class=\"ui-tabs ui-widget ui-widget-content ui-corner-all\">\n",
      "    <div id=\"panel-tabs\" class=\"clearfix\">\n",
      "        <ul class=\"nav-tabs-slideshow ui-tabs-nav ui-helper-reset ui-helper-clearfix ui-widget-header ui-corner-all\" role=\"tablist\">\n",
      "            <li class=\"ui-state-default ui-corner-top ui-tabs-active ui-state-active\" role=\"tab\" tabindex=\"0\" aria-controls=\"panel-1\" aria-labelledby=\"ui-id-1\" aria-selected=\"true\"><a href=\"#panel-1\" class=\"ui-tabs-anchor\" role=\"presentation\" tabindex=\"-1\" id=\"ui-id-1\"><strong>컴퓨터공학부</strong><br>\n",
      "                <span>School of Computer Science and Engineering</span>\n",
      "                </a>\n",
      "            </li>\n",
      "            <li class=\"ui-state-default ui-corner-top\" role=\"tab\" tabindex=\"-1\" aria-controls=\"panel-2\" aria-labelledby=\"ui-id-2\" aria-selected=\"false\">\n",
      "                <a href=\"#panel-2\" class=\"ui-tabs-anchor\" role=\"presentation\" tabindex=\"-1\" id=\"ui-id-2\"><strong>IT 융합소프트웨어 인력양성사업</strong><br>\n",
      "                <span>CK (Creative Korea)-I</span>\n",
      "                </a>\n",
      "            </li>\n",
      "            <li class=\"ui-state-default ui-corner-top\" role=\"tab\" tabindex=\"-1\" aria-controls=\"panel-3\" aria-labelledby=\"ui-id-3\" aria-selected=\"false\">\n",
      "                <a href=\"#panel-3\" class=\"ui-tabs-anchor\" role=\"presentation\" tabindex=\"-1\" id=\"ui-id-3\"><strong>교육역량강화사업 온라인 컨텐츠</strong><br>\n",
      "                <span>Online Contents for Education Capability Empowerment</span>\n",
      "                </a>\n",
      "            </li>\n",
      "        </ul>\n",
      "    </div>\n",
      "\t<div class=\"ui-tabs-panel ui-widget-content ui-corner-bottom\" id=\"panel-1\" style=\"background-image: url(layouts/cse/images/kut1.png); display: block; background-position: 50% 0px; background-repeat: no-repeat no-repeat;\" aria-labelledby=\"ui-id-1\" role=\"tabpanel\" aria-expanded=\"true\" aria-hidden=\"false\">\n",
      "        <div class=\"tabs-blur no-blur\" style=\"background:url(http://placehold.it/2000x620) no-repeat 50% 0\">\n",
      "        </div>\n",
      "        <div class=\"tabs-container\">\n",
      "            <article>\n",
      "                <h2>IT 교육의 글로벌 메카</h2>\n",
      "                <p>한국기술교육대학교 컴퓨터공학부 홈페이지에 오신 것을<br/>환영합니다!</p>\n",
      "            </article>\n",
      "        </div>\n",
      "    </div>\n",
      "    <div class=\"ui-tabs-panel ui-widget-content ui-corner-bottom\" id=\"panel-2\" style=\"background-image: url(layouts/cse/images/kut2.png); display: none; background-position: 50% 0px; background-repeat: no-repeat no-repeat;\" aria-labelledby=\"ui-id-2\" role=\"tabpanel\" aria-expanded=\"false\" aria-hidden=\"true\">\n",
      "        <div class=\"tabs-blur no-blur\" style=\"background:url(http://placehold.it/2000x620) no-repeat 50% 0\">\n",
      "        </div>\n",
      "\t<div class=\"tabs-container\">\n",
      "            <article>\n",
      "                <h2>IT 융합소프트웨어 인력양성사업</h2>\n",
      "                <p>글로벌 수준의 IT전문인력 양성<br/>\n",
      "IT융합분야에 대한 국제적인 경쟁력 고취</p>\n",
      "                <a href=\"http://itcsw.koreatech.ac.kr\" target=\"_blank\" class=\"button-more-slide\">바로가기</a>\n",
      "            </article>\n",
      "        </div>\n",
      "    </div>\n",
      "    <div class=\"ui-tabs-panel ui-widget-content ui-corner-bottom\" id=\"panel-3\" style=\"background-image: url(layouts/cse/images/kut3.png); display: none; background-position: 50% 0px; background-repeat: no-repeat no-repeat;\" aria-labelledby=\"ui-id-3\" role=\"tabpanel\" aria-expanded=\"false\" aria-hidden=\"true\">\n",
      "        <div class=\"tabs-blur no-blur\" style=\"background:url(http://placehold.it/2000x620) no-repeat 50% 0\">\n",
      "        </div>\n",
      "\t<div class=\"tabs-container\">\n",
      "            <article>\n",
      "                <h2>교육역량강화사업 컨텐츠</h2>\n",
      "                <p>교육역량강화사업 온라인 컨텐츠를 소개합니다.</p>\n",
      "                <a href=\"http://218.150.181.55\" target=\"_blank\" class=\"button-more-slide\">바로가기</a>\n",
      "            </article>\n",
      "        </div>\n",
      "    </div>\n",
      "</div>\n",
      "<!-- main image tab end -->\n",
      "<div>\n",
      "    <div id=\"content\" class=\"clearfix\">\t\t\n",
      "    <div class=\"xe-widget-wrapper \" style=\"float: left; width: 375px; border: 0px solid rgb(0, 0, 0); margin: 0px; background-image: none; background-position: 0% 0%; background-repeat: repeat repeat;\"><div style=\"*zoom:1;padding:0px 0px 0px 0px !important;\"><div class=\"sidebar-homepage\">\n",
      "<aside class=\"widget-container\">\n",
      "\t<div class=\"widget-wrapper clearfix\">\n",
      "                <h3 class=\"widget-title\"><a href=\"https://cse.koreatech.ac.kr/notice\">공지사항</a></h3>\n",
      "    <ul class=\"widgetA menu news-sidebar\">\n",
      "                    <li class=\"clearfix\" >\n",
      "                                                                                        <h4><a href=\"https://cse.koreatech.ac.kr/74074\" class=\"title\">Spark + Python 을 활용한 빅데이터 분석 특강 공지</a></h4>\n",
      "                                                                                                                            <span class=\"date-news\">2015-10-01 10:55 10:55</span>\n",
      "                                    </li>\n",
      "                <li class=\"clearfix\" >\n",
      "                                                                                        <h4><a href=\"https://cse.koreatech.ac.kr/74072\" class=\"title\">2015 졸업연구작품 최종심사 결과 공지!!</a></h4>\n",
      "                                                                                                                            <span class=\"date-news\">2015-09-30 20:33 20:33</span>\n",
      "                                    </li>\n",
      "                <li class=\"clearfix\" >\n",
      "                                                                                        <h4><a href=\"https://cse.koreatech.ac.kr/73932\" class=\"title\">[특성화] 2015 AI Challenge 경진대회 수상현황 공고</a></h4>\n",
      "                                                                                                                            <span class=\"date-news\">2015-09-24 21:18 21:18</span>\n",
      "                                    </li>\n",
      "                <li class=\"clearfix\" >\n",
      "                                                                                        <h4><a href=\"https://cse.koreatech.ac.kr/73881\" class=\"title\">[특성화] (주)KMW  인턴사원 모집공고</a></h4>\n",
      "                                                                                                                            <span class=\"date-news\">2015-09-23 14:31 14:31</span>\n",
      "                                    </li>\n",
      "                <li class=\"clearfix\" >\n",
      "                                                                                        <h4><a href=\"https://cse.koreatech.ac.kr/73546\" class=\"title\">( 09월 23일 수요일 ) 2015 컴퓨터공학부 졸업작품 최...</a></h4>\n",
      "                                                                                                                            <span class=\"date-news\">2015-09-22 01:10 01:10</span>\n",
      "                                    </li>\n",
      "            </ul>\n",
      "            </div>\n",
      "</aside>\n",
      "</div>\n",
      "</div></div><div class=\"xe-widget-wrapper \" style=\"float: left; width: 375px; border: 0px solid rgb(0, 0, 0); margin: 0px; background-image: none; background-position: 0% 0%; background-repeat: repeat repeat;\"><div style=\"*zoom:1;padding:0px 0px 0px 0px !important;\"><div class=\"sidebar-homepage\">\n",
      "<aside class=\"widget-container\">\n",
      "\t<div class=\"widget-wrapper clearfix\">\n",
      "                <h3 class=\"widget-title\"><a href=\"https://cse.koreatech.ac.kr/freeboard\">자유게시판</a></h3>\n",
      "    <ul class=\"widgetA menu news-sidebar\">\n",
      "                    <li class=\"clearfix\" >\n",
      "                                                                                        <h4><a href=\"https://cse.koreatech.ac.kr/74065\" class=\"title\">(주) 엔에스이 에서 개발자를 모집합니다.</a></h4>\n",
      "                                                                                                                            <span class=\"date-news\">2015-09-30 13:30 13:30</span>\n",
      "                                    </li>\n",
      "                <li class=\"clearfix\" >\n",
      "                                                                                        <h4><a href=\"https://cse.koreatech.ac.kr/73939\" class=\"title\">졸업작품 전시회 컴퓨터공학부 인기상 투표 이벤트</a></h4>\n",
      "                                                                                                                            <span class=\"date-news\">2015-09-25 01:21 01:21</span>\n",
      "                                    </li>\n",
      "                <li class=\"clearfix\" >\n",
      "                                                                                        <h4><a href=\"https://cse.koreatech.ac.kr/73191\" class=\"title\">삼성 대학생 프로그래밍 경진대회</a></h4>\n",
      "                                                                                                                            <span class=\"date-news\">2015-09-15 11:17 11:17</span>\n",
      "                                    </li>\n",
      "                <li class=\"clearfix\" >\n",
      "                                                                                        <h4><a href=\"https://cse.koreatech.ac.kr/73152\" class=\"title\">2015년 4차 모의토익 지원</a></h4>\n",
      "                                                                                                                            <span class=\"date-news\">2015-09-09 23:34 23:34</span>\n",
      "                                    </li>\n",
      "                <li class=\"clearfix\" >\n",
      "                                                                                        <h4><a href=\"https://cse.koreatech.ac.kr/73140\" class=\"title\">난 괜찮아, 돌아가면 되지~</a></h4>\n",
      "                                                                                                                            <span class=\"date-news\">2015-09-09 15:51 15:51</span>\n",
      "                                    </li>\n",
      "            </ul>\n",
      "            </div>\n",
      "</aside>\n",
      "</div>\n",
      "</div></div><div class=\"xe-widget-wrapper \" style=\"float: left; width: 375px; border: 0px solid rgb(0, 0, 0); margin: 0px; background-image: none; background-position: 0% 0%; background-repeat: repeat repeat;\"><div style=\"*zoom:1;padding:0px 0px 0px 0px !important;\"><div class=\"sidebar-homepage\">\n",
      "<aside class=\"widget-container\">\n",
      "\t<div class=\"widget-wrapper clearfix\">\n",
      "                <h3 class=\"widget-title\"><a href=\"https://cse.koreatech.ac.kr/jobboard\">취업게시판</a></h3>\n",
      "    <ul class=\"widgetA menu news-sidebar\">\n",
      "                    <li class=\"clearfix\" >\n",
      "                                                                                        <h4><a href=\"https://cse.koreatech.ac.kr/73170\" class=\"title\">㈜인젠트 기술연구소 전문연구요원 모집</a></h4>\n",
      "                                                                                                                            <span class=\"date-news\">2015-09-14 11:54 11:54</span>\n",
      "                                    </li>\n",
      "                <li class=\"clearfix\" >\n",
      "                                                                                        <h4><a href=\"https://cse.koreatech.ac.kr/73018\" class=\"title\">펜타인 2015년도 신입사원 채용공고</a></h4>\n",
      "                                                                                                                            <span class=\"date-news\">2015-09-03 16:16 16:16</span>\n",
      "                                    </li>\n",
      "                <li class=\"clearfix\" >\n",
      "                                                                                        <h4><a href=\"https://cse.koreatech.ac.kr/72978\" class=\"title\">LIG인베니아 (코스닥상장 LIG그룹사 디스플레이장비전...</a></h4>\n",
      "                                                                                                                            <span class=\"date-news\">2015-09-03 14:01 14:01</span>\n",
      "                                    </li>\n",
      "                <li class=\"clearfix\" >\n",
      "                                                                                        <h4><a href=\"https://cse.koreatech.ac.kr/71878\" class=\"title\">㈜ 한울 소프트웨어 개발자</a></h4>\n",
      "                                                                                                                            <span class=\"date-news\">2015-06-18 10:28 10:28</span>\n",
      "                                    </li>\n",
      "                <li class=\"clearfix\" >\n",
      "                                                                                        <h4><a href=\"https://cse.koreatech.ac.kr/71725\" class=\"title\"><span style=\"font-weight:bold;color:#2266EE\">부국산업(본사 : 울산소재) 전산직 신입사원 모집</span></a></h4>\n",
      "                                                                                                                            <span class=\"date-news\">2015-06-09 14:04 14:04</span>\n",
      "                                    </li>\n",
      "            </ul>\n",
      "            </div>\n",
      "</aside>\n",
      "</div>\n",
      "</div></div><div class=\"xe-widget-wrapper \" style=\"float: left; width: 375px; border: 0px solid rgb(0, 0, 0); margin: 0px; background-image: none; background-position: 0% 0%; background-repeat: repeat repeat;\"><div style=\"*zoom:1;padding:0px 0px 0px 0px !important;\"><div class=\"sidebar-homepage\">\n",
      "<aside class=\"widget-container\">\n",
      "\t<div class=\"widget-wrapper clearfix\">\n",
      "                <h3 class=\"widget-title\"><a href=\"http://www.venturesquare.net/\">VENTURESQUARE</a></h3>\n",
      "    <ul class=\"widgetA menu news-sidebar\">\n",
      "                    <li class=\"clearfix\" >\n",
      "                                                                                        <h4><a href=\"http://feedproxy.google.com/~r/vs-rss/~3/xKZINGloDcA/602299\" class=\"title\">MCN, ‘샌드박스 네트워크’, 동문파트너즈로 부터 10억...</a></h4>\n",
      "                                                                                    <span class=\"icon\"></span>\n",
      "                                                                                    <span class=\"date-news\">2015-10-01 10:39 10:39</span>\n",
      "                                    </li>\n",
      "                <li class=\"clearfix\" >\n",
      "                                                                                        <h4><a href=\"http://feedproxy.google.com/~r/vs-rss/~3/FT4ZeR6cX-Q/602285\" class=\"title\">‘아이랑놀기짱’, 프리미엄 육아 방문 놀이 서비스 3종 ...</a></h4>\n",
      "                                                                                    <span class=\"icon\"></span>\n",
      "                                                                                    <span class=\"date-news\">2015-10-01 10:08 10:08</span>\n",
      "                                    </li>\n",
      "                <li class=\"clearfix\" >\n",
      "                                                                                        <h4><a href=\"http://feedproxy.google.com/~r/vs-rss/~3/hnjQSNBgZto/602269\" class=\"title\">IoT 스킨케어 솔루션 ‘웨이’ 웨이웨어러블, 아모레퍼시...</a></h4>\n",
      "                                                                                    <span class=\"icon\"></span>\n",
      "                                                                                    <span class=\"date-news\">2015-10-01 09:42 09:42</span>\n",
      "                                    </li>\n",
      "                <li class=\"clearfix\" >\n",
      "                                                                                        <h4><a href=\"http://feedproxy.google.com/~r/vs-rss/~3/2VIabFzyOfc/602259\" class=\"title\">더벤처스, 말콤 콜린스 전략 디렉터 영입</a></h4>\n",
      "                                                                                    <span class=\"icon\"></span>\n",
      "                                                                                    <span class=\"date-news\">2015-10-01 09:23 09:23</span>\n",
      "                                    </li>\n",
      "                <li class=\"clearfix\" >\n",
      "                                                                                        <h4><a href=\"http://feedproxy.google.com/~r/vs-rss/~3/MBHwplSOPUI/602250\" class=\"title\">엠트리케어, 빅뱅엔젤스로부터 1.5억 초기 투자 유치 성공</a></h4>\n",
      "                                                                                    <span class=\"icon\"></span>\n",
      "                                                                                    <span class=\"date-news\">2015-09-30 19:50 19:50</span>\n",
      "                                    </li>\n",
      "            </ul>\n",
      "            </div>\n",
      "</aside>\n",
      "</div>\n",
      "</div></div><div class=\"xe-widget-wrapper \" style=\"float: left; width: 375px; border: 0px solid rgb(0, 0, 0); margin: 0px; background-image: none; background-position: 0% 0%; background-repeat: repeat repeat;\"><div style=\"*zoom:1;padding:0px 0px 0px 0px !important;\"><div class=\"sidebar-homepage\">\n",
      "<aside class=\"widget-container\">\n",
      "\t<div class=\"widget-wrapper clearfix\">\n",
      "                <h3 class=\"widget-title\"><a href=\"http://www.etnews.com/\">전자신문</a></h3>\n",
      "    <ul class=\"widgetA menu news-sidebar\">\n",
      "                    <li class=\"clearfix\" >\n",
      "                                                                                        <h4><a href=\"http://www.etnews.com/20151001000089\" class=\"title\">[이슈분석]LG전자 스마트폰 사업 위기 극복하나</a></h4>\n",
      "                                                                                    <span class=\"icon\"></span>\n",
      "                                                                                    <span class=\"date-news\">2015-10-01 11:00 11:00</span>\n",
      "                                    </li>\n",
      "                <li class=\"clearfix\" >\n",
      "                                                                                        <h4><a href=\"http://www.etnews.com/20151001000092\" class=\"title\">[이슈분석]‘어베인 2nd 에디션’, 어베인과 어베인 LTE ...</a></h4>\n",
      "                                                                                    <span class=\"icon\"></span>\n",
      "                                                                                    <span class=\"date-news\">2015-10-01 11:00 11:00</span>\n",
      "                                    </li>\n",
      "                <li class=\"clearfix\" >\n",
      "                                                                                        <h4><a href=\"http://www.etnews.com/20151001000098\" class=\"title\">[이슈분석]LG전자 신형 프리미엄폰 V10, 경쟁력은?</a></h4>\n",
      "                                                                                    <span class=\"icon\"></span>\n",
      "                                                                                    <span class=\"date-news\">2015-10-01 11:00 11:00</span>\n",
      "                                    </li>\n",
      "                <li class=\"clearfix\" >\n",
      "                                                                                        <h4><a href=\"http://www.etnews.com/20151001000095\" class=\"title\">LG유플러스-퀄컴, IoT 기업에 2년간 50만 달러 지원</a></h4>\n",
      "                                                                                    <span class=\"icon\"></span>\n",
      "                                                                                    <span class=\"date-news\">2015-10-01 10:51 10:51</span>\n",
      "                                    </li>\n",
      "                <li class=\"clearfix\" >\n",
      "                                                                                        <h4><a href=\"http://www.etnews.com/20151001000093\" class=\"title\">데이터 업로드 속도 최대 4배 ↑···SK텔레콤, 상향링크 ...</a></h4>\n",
      "                                                                                    <span class=\"icon\"></span>\n",
      "                                                                                    <span class=\"date-news\">2015-10-01 10:49 10:49</span>\n",
      "                                    </li>\n",
      "            </ul>\n",
      "            </div>\n",
      "</aside>\n",
      "</div>\n",
      "</div></div><div class=\"xe-widget-wrapper \" style=\"float: left; width: 375px; border: 0px solid rgb(0, 0, 0); margin: 0px; background-image: none; background-position: 0% 0%; background-repeat: repeat repeat;\"><div style=\"*zoom:1;padding:0px 0px 0px 0px !important;\"><div class=\"sidebar-homepage\">\n",
      "<aside class=\"widget-container\">\n",
      "\t<div class=\"widget-wrapper clearfix\">\n",
      "                <h3 class=\"widget-title\"><a href=\"http://recode.net/\">RE/CODE</a></h3>\n",
      "    <ul class=\"widgetA menu news-sidebar\">\n",
      "                    <li class=\"clearfix\" >\n",
      "                                                                                        <h4><a href=\"https://recode.net/2015/09/30/google-microsoft-end-patent-battle-drop-lawsuits/\" class=\"title\">Google, Microsoft End Patent Battle, Drop Laws...</a></h4>\n",
      "                                                                                    <span class=\"icon\"></span>\n",
      "                                                                                    <span class=\"date-news\">2015-10-01 07:57 07:57</span>\n",
      "                                    </li>\n",
      "                <li class=\"clearfix\" >\n",
      "                                                                                        <h4><a href=\"https://recode.net/2015/09/30/apples-plan-for-growth-comic/\" class=\"title\">Apple’s Plan for Growth (Comic)</a></h4>\n",
      "                                                                                    <span class=\"icon\"></span>\n",
      "                                                                                    <span class=\"date-news\">2015-10-01 06:45 06:45</span>\n",
      "                                    </li>\n",
      "                <li class=\"clearfix\" >\n",
      "                                                                                        <h4><a href=\"https://recode.net/2015/09/30/study-concludes-the-obvious-sf-tech-workers-have-trouble-affording-housing/\" class=\"title\">Study Concludes the Obvious: SF Tech Workers H...</a></h4>\n",
      "                                                                                    <span class=\"icon\"></span>\n",
      "                                                                                    <span class=\"date-news\">2015-10-01 06:11 06:11</span>\n",
      "                                    </li>\n",
      "                <li class=\"clearfix\" >\n",
      "                                                                                        <h4><a href=\"https://recode.net/2015/09/30/google-plans-to-unveil-its-version-of-instant-articles-next-week/\" class=\"title\">Google Plans to Unveil Its Version of ‘Instant...</a></h4>\n",
      "                                                                                    <span class=\"icon\"></span>\n",
      "                                                                                    <span class=\"date-news\">2015-10-01 06:05 06:05</span>\n",
      "                                    </li>\n",
      "                <li class=\"clearfix\" >\n",
      "                                                                                        <h4><a href=\"https://recode.net/2015/09/30/next-issue-media-the-hulu-for-magazines-tries-a-new-name-and-a-new-idea-make-your-own-magazine/\" class=\"title\">Next Issue Media, the ‘Hulu for Magazines,’ Tr...</a></h4>\n",
      "                                                                                    <span class=\"icon\"></span>\n",
      "                                                                                    <span class=\"date-news\">2015-10-01 06:00 06:00</span>\n",
      "                                    </li>\n",
      "            </ul>\n",
      "            </div>\n",
      "</aside>\n",
      "</div>\n",
      "</div></div>    </div>\n",
      "</div>\n",
      "<!-- main page footer start -->\n",
      "<footer id=\"main-footer\">\n",
      "    <!--\n",
      "    <div id=\"blur-top\">\n",
      "        <a href=\"#\" id=\"link-back-top\">Back to Top</a>\n",
      "    </div>\n",
      "    <div id=\"slogan-footer\">\n",
      "        <h4>Leading Together <span>for</span> Brighter Future</h4>\n",
      "    </div>\n",
      "    -->\n",
      "    <div id=\"footer-content\" class=\"clearfix\">\n",
      "        <div id=\"footer-container\">\n",
      "            <div id=\"sidebar-footer-left\" class=\"sidebar-footer\">\n",
      "                <aside class=\"widget-container\">\n",
      "                    <div class=\"widget-wrapper clearfix\">\n",
      "                        <h3 class=\"widget-title\">Quick Navigation</h3>\n",
      "                        <ul>\n",
      "                            <li><a href=\"http://www.koreatech.ac.kr\" target=\"_blank\">한국기술교육대학교 홈페이지</a></li>\n",
      "                            <li><a href=\"https://email.koreatech.ac.kr\" target=\"_blank\">한국기술교육대학교 WEBMAIL</a></li>\n",
      "                            <li><a href=\"http://www.e-koreatech.ac.kr\" target=\"_blank\">한국기술교육대학교 온라인 평생교육원</a></li>\n",
      "                            <li><a href=\"http://218.150.181.55\" target=\"_blank\">교육역량강화사업 온라인 컨텐츠</a></li>\n",
      "                            <!--<li><a href=\"https://cse.koreatech.ac.kr/?mid=portfolio\" target=\"_blank\">컴퓨터공학부 포트폴리오</a></li>-->\n",
      "                            <li><a href=\"http://itcsw.koreatech.ac.kr\" target=\"_blank\">IT 융합소프트웨어 인력양성사업</a></li>\n",
      "                        </ul>\n",
      "                    </div>\n",
      "                </aside>\n",
      "            </div>\n",
      "            <div id=\"sidebar-footer-middle\" class=\"sidebar-footer\">\n",
      "                <aside class=\"widget-container\">\n",
      "                    <div class=\"widget-wrapper clearfix\">\n",
      "                        <h3 class=\"widget-title\">Campus Location</h3>\n",
      "                        <article class=\"text-widget \">\n",
      "\t                        <iframe class=\"map-area\" src=\"https://www.google.com/maps/embed?pb=!1m18!1m12!1m3!1d3196.369861062225!2d127.28035150000001!3d36.761693699999995!2m3!1f0!2f0!3f0!3m2!1i1024!2i768!4f13.1!3m3!1m2!1s0x357b2ac0a5190d0f%3A0x24cddeffd416ef74!2z7LKc7JWI7IucIOuzkeyynOuptCDtlZzqta3quLDsiKDqtZDsnKHrjIDtlZnqtZAg6rO17ZWZNOq0gA!5e0!3m2!1sko!2skr!4v1428058842867\" width=\"600\" height=\"450\" frameborder=\"0\" style=\"border:0\"></iframe><br/>\n",
      "                    </div>\n",
      "                </aside>\n",
      "            </div>\n",
      "<div id=\"sidebar-footer-right\" class=\"sidebar-footer\">\n",
      "                <aside class=\"widget-container\">\n",
      "                    <h3 class=\"widget-title\">Contact CSE</h3>\n",
      "                <p>충청남도 천안시 동남구 병천면 충절로 1600<br/>한국기술교육대학교 컴퓨터공학부 학과사무실 <br/>TEL (041) 560 1460~1461<br/> FAX (041) 560 1462\n",
      "                <ul id=\"list-social\" class=\"clearfix\">\n",
      "                    <li id=\"icon-facebook\"><a href=\"https://www.facebook.com/pages/%ED%95%9C%EA%B5%AD%EA%B8%B0%EC%88%A0%EA%B5%90%EC%9C%A1%EB%8C%80%ED%95%99%EA%B5%90-%EC%BB%B4%ED%93%A8%ED%84%B0%EA%B3%B5%ED%95%99%EB%B6%80/288344217903811?fref=nf\">Facebook</a></li>\n",
      "                    <li id=\"icon-twitter\"><a href=\"#\">Twitter</a></li>\n",
      "                    <li id=\"icon-gplus\"><a href=\"#\">Google Plus</a></li>\n",
      "                    <li id=\"icon-linkedin\"><a href=\"#\">Linkedin</a></li>\n",
      "<!--                    <li id=\"icon-youtube\"><a href=\"#\">Youtube</a></li>\n",
      "                    <li id=\"icon-flickr\" class=\"last\"><a href=\"#\">Flickr</a></li>-->\n",
      "                </ul>\n",
      "                </aside>\n",
      "            </div>\n",
      "        </div>\n",
      "    </div>\n",
      "    <div id=\"footer-copyright\">\n",
      "        <div id=\"footer-copyright-content\" class=\"clearfix\">\n",
      "            <a href=\"#\" id=\"logo-footer\"><img src=\"/layouts/cse/images/cse_logo_footer.png\" data-retina=\"images/cse_logo_footer_retina.png\" alt=\"School Fun - University\" /></a>\n",
      "            <p id=\"text-address\">(31253) 충청남도 천안시 동남구 병천면 충절로 1600 (가전리, 한국기술교육대학교) 컴퓨터공학부 </p>\n",
      "            <p id=\"text-copyright\">Copyright © 2015. All rights reserved</p>\n",
      "        </div>\n",
      "    </div>\n",
      "</footer>\n",
      "<!-- main page footer end -->\n",
      "</body>\n",
      "</html>\n",
      "<!-- ETC -->\n",
      "<div class=\"wfsr\"></div>\n",
      "<script src=\"/addons/autolink/autolink.js?20150910092649\"></script><script src=\"/common/js/plugins/ui/jquery-ui.min.js?20150910092656\"></script><script src=\"/common/js/plugins/ui/jquery.ui.datepicker-ko.js?20150910092656\"></script><script src=\"/addons/resize_image/js/resize_image.min.js?20150910092650\"></script><script src=\"/layouts/cse/script/jquery.flexslider.js?20150805222706\"></script><script src=\"/layouts/cse/script/jquery.prettyPhoto.js?20150805222706\"></script><script src=\"/layouts/cse/script/jquery-ui-tabs-rotate.js?20150805222706\"></script><script src=\"/layouts/cse/script/scripts.js?20150821175206\"></script><script src=\"/files/cache/js_filter_compiled/5ad07e2b14b79f1c993c3e4b5ca58660.ko.compiled.js?20150910090632\"></script><script src=\"/files/cache/ruleset/85b80736b3cc92d07570521ad97a31d9.ko.js?20150910090632\"></script></body>\n",
      "</html>\n",
      "\n"
     ]
    }
   ],
   "source": [
    "import urllib2 // 모듈\n",
    "\n",
    "source = urllib2.urlopen(\"http://cse.kut.ac.kr/\").read()\n",
    " // 페ㅣ지 소스보기 전체를 가져옴. 소스 변수에 문자열로 다 들어와.\n",
    "print source"
   ]
  },
  {
   "cell_type": "code",
   "execution_count": 2,
   "metadata": {
    "collapsed": false
   },
   "outputs": [
    {
     "name": "stdout",
     "output_type": "stream",
     "text": [
      "가 각 갂 갃 간 갅 갆 갇 갈 갉 갊 갋 갌 갍 갎 갏 감 갑 값 갓 갔 강 갖 갗 갘 같 갚 갛 개 객 갞 갟 갠 갡 갢 갣 갤 갥 갦 갧 갨 갩 갪 갫 갬 갭 갮 갯 갰 갱 갲 갳 갴 갵 갶 갷 갸 갹 갺 갻 갼 갽 갾 갿 걀 걁 걂 걃 걄 걅 걆 걇 걈 걉 걊 걋 걌 걍 걎 걏 걐 걑 걒 걓 걔 걕 걖 걗 걘 걙 걚 걛 걜 걝 걞 걟 걠 걡 걢 걣 걤 걥 걦 걧 걨 걩 걪 걫 걬 걭 걮 걯 거 걱 걲 걳 건 걵 걶 걷 걸 걹 걺 걻 걼 걽 걾 걿 검 겁 겂 것 겄 겅 겆 겇 겈 겉 겊 겋 게 겍 겎 겏 겐 겑 겒 겓 겔 겕 겖 겗 겘 겙 겚 겛 겜 겝 겞 겟 겠 겡 겢 겣 겤 겥 겦 겧 겨 격 겪 겫 견 겭 겮 겯 결 겱 겲 겳 겴 겵 겶 겷 겸 겹 겺 겻 겼 경 겾 겿 곀 곁 곂 곃 계 곅 곆 곇 곈 곉 곊 곋 곌 곍 곎 곏 곐 곑 곒 곓 곔 곕 곖 곗 곘 곙 곚 곛 곜 곝 곞 곟 고 곡 곢 곣 곤 곥 곦 곧 골 곩 곪 곫 곬 곭 곮 곯 곰 곱 곲 곳 곴 공 곶 곷 곸 곹 곺 곻 과 곽 곾 곿 관 괁 괂 괃 괄 괅 괆 괇 괈 괉 괊 괋 괌 괍 괎 괏 괐 광 괒 괓 괔 괕 괖 괗 괘 괙 괚 괛 괜 괝 괞 괟 괠 괡 괢 괣 괤 괥 괦 괧 괨 괩 괪 괫 괬 괭 괮 괯 괰 괱 괲 괳 괴 괵 괶 괷 괸 괹 괺 괻 괼 괽 괾 괿 굀 굁 굂 굃 굄 굅 굆 굇 굈 굉 굊 굋 굌 굍 굎 굏 교 굑 굒 굓 굔 굕 굖 굗 굘 굙 굚 굛 굜 굝 굞 굟 굠 굡 굢 굣 굤 굥 굦 굧 굨 굩 굪 굫 구 국 굮 굯 군 굱 굲 굳 굴 굵 굶 굷 굸 굹 굺 굻 굼 굽 굾 굿 궀 궁 궂 궃 궄 궅 궆 궇 궈 궉 궊 궋 권 궍 궎 궏 궐 궑 궒 궓 궔 궕 궖 궗 궘 궙 궚 궛 궜 궝 궞 궟 궠 궡 궢 궣 궤 궥 궦 궧 궨 궩 궪 궫 궬 궭 궮 궯 궰 궱 궲 궳 궴 궵 궶 궷 궸 궹 궺 궻 궼 궽 궾 궿 귀 귁 귂 귃 귄 귅 귆 귇 귈 귉 귊 귋 귌 귍 귎 귏 귐 귑 귒 귓 귔 귕 귖 귗 귘 귙 귚 귛 규 귝 귞 귟 균 귡 귢 귣 귤 귥 귦 귧 귨 귩 귪 귫 귬 귭 귮 귯 귰 귱 귲 귳 귴 귵 귶 귷 그 극 귺 귻 근 귽 귾 귿 글 긁 긂 긃 긄 긅 긆 긇 금 급 긊 긋 긌 긍 긎 긏 긐 긑 긒 긓 긔 긕 긖 긗 긘 긙 긚 긛 긜 긝 긞 긟 긠 긡 긢 긣 긤 긥 긦 긧 긨 긩 긪 긫 긬 긭 긮 긯 기 긱 긲 긳 긴 긵 긶 긷 길 긹 긺 긻 긼 긽 긾 긿 김 깁 깂 깃 깄 깅 깆 깇 깈 깉 깊 깋 까 깍 깎 깏 깐 깑 깒 깓 깔 깕 깖 깗 깘 깙 깚 깛 깜 깝 깞 깟 깠 깡 깢 깣 깤 깥 깦 깧 깨 깩 깪 깫 깬 깭 깮 깯 깰 깱 깲 깳 깴 깵 깶 깷 깸 깹 깺 깻 깼 깽 깾 깿 꺀 꺁 꺂 꺃 꺄 꺅 꺆 꺇 꺈 꺉 꺊 꺋 꺌 꺍 꺎 꺏 꺐 꺑 꺒 꺓 꺔 꺕 꺖 꺗 꺘 꺙 꺚 꺛 꺜 꺝 꺞 꺟 꺠 꺡 꺢 꺣 꺤 꺥 꺦 꺧 꺨 꺩 꺪 꺫 꺬 꺭 꺮 꺯 꺰 꺱 꺲 꺳 꺴 꺵 꺶 꺷 꺸 꺹 꺺 꺻 꺼 꺽 꺾 꺿 껀 껁 껂 껃 껄 껅 껆 껇 껈 껉 껊 껋 껌 껍 껎 껏 껐 껑 껒 껓 껔 껕 껖 껗 께 껙 껚 껛 껜 껝 껞 껟 껠 껡 껢 껣 껤 껥 껦 껧 껨 껩 껪 껫 껬 껭 껮 껯 껰 껱 껲 껳 껴 껵 껶 껷 껸 껹 껺 껻 껼 껽 껾 껿 꼀 꼁 꼂 꼃 꼄 꼅 꼆 꼇 꼈 꼉 꼊 꼋 꼌 꼍 꼎 꼏 꼐 꼑 꼒 꼓 꼔 꼕 꼖 꼗 꼘 꼙 꼚 꼛 꼜 꼝 꼞 꼟 꼠 꼡 꼢 꼣 꼤 꼥 꼦 꼧 꼨 꼩 꼪 꼫 꼬 꼭 꼮 꼯 꼰 꼱 꼲 꼳 꼴 꼵 꼶 꼷 꼸 꼹 꼺 꼻 꼼 꼽 꼾 꼿 꽀 꽁 꽂 꽃 꽄 꽅 꽆 꽇 꽈 꽉 꽊 꽋 꽌 꽍 꽎 꽏 꽐 꽑 꽒 꽓 꽔 꽕 꽖 꽗 꽘 꽙 꽚 꽛 꽜 꽝 꽞 꽟 꽠 꽡 꽢 꽣 꽤 꽥 꽦 꽧 꽨 꽩 꽪 꽫 꽬 꽭 꽮 꽯 꽰 꽱 꽲 꽳 꽴 꽵 꽶 꽷 꽸 꽹 꽺 꽻 꽼 꽽 꽾 꽿 꾀 꾁 꾂 꾃 꾄 꾅 꾆 꾇 꾈 꾉 꾊 꾋 꾌 꾍 꾎 꾏 꾐 꾑 꾒 꾓 꾔 꾕 꾖 꾗 꾘 꾙 꾚 꾛 꾜 꾝 꾞 꾟 꾠 꾡 꾢 꾣 꾤 꾥 꾦 꾧 꾨 꾩 꾪 꾫 꾬 꾭 꾮 꾯 꾰 꾱 꾲 꾳 꾴 꾵 꾶 꾷 꾸 꾹 꾺 꾻 꾼 꾽 꾾 꾿 꿀 꿁 꿂 꿃 꿄 꿅 꿆 꿇 꿈 꿉 꿊 꿋 꿌 꿍 꿎 꿏 꿐 꿑 꿒 꿓 꿔 꿕 꿖 꿗 꿘 꿙 꿚 꿛 꿜 꿝 꿞 꿟 꿠 꿡 꿢 꿣 꿤 꿥 꿦 꿧\n"
     ]
    }
   ],
   "source": [
    "i = 0\n",
    "while i < 1000:\n",
    "    print unichr(0xac00 + i),\n",
    "    i = i + 1"
   ]
  },
  {
   "cell_type": "code",
   "execution_count": 5,
   "metadata": {
    "collapsed": false
   },
   "outputs": [
    {
     "name": "stdout",
     "output_type": "stream",
     "text": [
      "1\n",
      "1\n",
      "1\n",
      "1 1\n"
     ]
    }
   ],
   "source": [
    "a =1\n",
    "print a\n",
    "print str(a)\n",
    "print repr(a)\n",
    "print \"%s %r\" % (1,1)"
   ]
  },
  {
   "cell_type": "code",
   "execution_count": 8,
   "metadata": {
    "collapsed": false
   },
   "outputs": [
    {
     "name": "stdout",
     "output_type": "stream",
     "text": [
      "1.12321890489\n",
      "1.12321890489\n",
      "1.1232189048903898\n"
     ]
    }
   ],
   "source": [
    "f = 1.123218904890389849\n",
    "print f\n",
    "print str(f)\n",
    "print repr(f)"
   ]
  },
  {
   "cell_type": "code",
   "execution_count": 9,
   "metadata": {
    "collapsed": false
   },
   "outputs": [
    {
     "name": "stdout",
     "output_type": "stream",
     "text": [
      "Hi\n",
      "Hi\n",
      "'Hi'\n"
     ]
    }
   ],
   "source": [
    "t = \"Hi\"\n",
    "print t\n",
    "print str(t)\n",
    "print repr(t)"
   ]
  },
  {
   "cell_type": "code",
   "execution_count": 12,
   "metadata": {
    "collapsed": false
   },
   "outputs": [],
   "source": [
    "b = 1 + 5\n",
    "b = eval('1+5')"
   ]
  },
  {
   "cell_type": "code",
   "execution_count": 13,
   "metadata": {
    "collapsed": false
   },
   "outputs": [
    {
     "ename": "NameError",
     "evalue": "name 'Hi' is not defined",
     "output_type": "error",
     "traceback": [
      "\u001b[1;31m---------------------------------------------------------------------------\u001b[0m",
      "\u001b[1;31mNameError\u001b[0m                                 Traceback (most recent call last)",
      "\u001b[1;32m<ipython-input-13-d9af742313a1>\u001b[0m in \u001b[0;36m<module>\u001b[1;34m()\u001b[0m\n\u001b[0;32m      1\u001b[0m \u001b[0mt\u001b[0m \u001b[1;33m=\u001b[0m \u001b[1;34m'Hi'\u001b[0m\u001b[1;33m\u001b[0m\u001b[0m\n\u001b[1;32m----> 2\u001b[1;33m \u001b[0my1\u001b[0m \u001b[1;33m=\u001b[0m \u001b[0meval\u001b[0m\u001b[1;33m(\u001b[0m\u001b[0mstr\u001b[0m\u001b[1;33m(\u001b[0m\u001b[0mt\u001b[0m\u001b[1;33m)\u001b[0m\u001b[1;33m)\u001b[0m\u001b[1;33m\u001b[0m\u001b[0m\n\u001b[0m\u001b[0;32m      3\u001b[0m \u001b[0my2\u001b[0m \u001b[1;33m=\u001b[0m \u001b[0meval\u001b[0m\u001b[1;33m(\u001b[0m\u001b[0mrepr\u001b[0m\u001b[1;33m(\u001b[0m\u001b[0mt\u001b[0m\u001b[1;33m)\u001b[0m\u001b[1;33m)\u001b[0m\u001b[1;33m\u001b[0m\u001b[0m\n",
      "\u001b[1;32m<string>\u001b[0m in \u001b[0;36m<module>\u001b[1;34m()\u001b[0m\n",
      "\u001b[1;31mNameError\u001b[0m: name 'Hi' is not defined"
     ]
    }
   ],
   "source": [
    "t = 'Hi'\n",
    "y1 = eval(str(t))\n",
    "y2 = eval(repr(t))"
   ]
  },
  {
   "cell_type": "code",
   "execution_count": 18,
   "metadata": {
    "collapsed": false
   },
   "outputs": [
    {
     "name": "stdout",
     "output_type": "stream",
     "text": [
      "61\n",
      "1 + a + b + c\n"
     ]
    }
   ],
   "source": [
    "a = 10\n",
    "b = 20\n",
    "c = 30\n",
    "d = eval(\"1 + a + b + c\")\n",
    "print d\n",
    "\n",
    "e = \"1 + a + b + c\"\n",
    "g = eval(repr(e))\n",
    "print g"
   ]
  },
  {
   "cell_type": "code",
   "execution_count": 20,
   "metadata": {
    "collapsed": false
   },
   "outputs": [
    {
     "name": "stdout",
     "output_type": "stream",
     "text": [
      "Help on function add in module __main__:\n",
      "\n",
      "add(a, b)\n",
      "    함수설명 add(a, b) returns a+b\n",
      "\n"
     ]
    }
   ],
   "source": [
    "def add(a, b):\n",
    "    \"함수설명 add(a, b) returns a+b\"\n",
    "    return a + b\n",
    "help(add)"
   ]
  },
  {
   "cell_type": "code",
   "execution_count": 26,
   "metadata": {
    "collapsed": false
   },
   "outputs": [
    {
     "name": "stdout",
     "output_type": "stream",
     "text": [
      "Help on function add in module __main__:\n",
      "\n",
      "add(a, b)\n",
      "    �Լ����� add(a, b) returns a+b\n",
      "    ���� ���ڿ� �н�\n",
      "\n"
     ]
    }
   ],
   "source": [
    "def add(a, b):\n",
    "    u\"\"\"\n",
    "    함수설명 add(a, b) returns a+b\n",
    "    문서 문자열 학습\n",
    "    \"\"\"\n",
    "    return a + b\n",
    "help(add)"
   ]
  },
  {
   "cell_type": "code",
   "execution_count": 27,
   "metadata": {
    "collapsed": true
   },
   "outputs": [],
   "source": [
    "add?"
   ]
  },
  {
   "cell_type": "code",
   "execution_count": 28,
   "metadata": {
    "collapsed": false
   },
   "outputs": [
    {
     "data": {
      "text/plain": [
       "['In',\n",
       " 'Out',\n",
       " '_',\n",
       " '__',\n",
       " '___',\n",
       " '__builtin__',\n",
       " '__builtins__',\n",
       " '__doc__',\n",
       " '__name__',\n",
       " '__package__',\n",
       " '_dh',\n",
       " '_i',\n",
       " '_i1',\n",
       " '_i10',\n",
       " '_i11',\n",
       " '_i12',\n",
       " '_i13',\n",
       " '_i14',\n",
       " '_i15',\n",
       " '_i16',\n",
       " '_i17',\n",
       " '_i18',\n",
       " '_i19',\n",
       " '_i2',\n",
       " '_i20',\n",
       " '_i21',\n",
       " '_i22',\n",
       " '_i23',\n",
       " '_i24',\n",
       " '_i25',\n",
       " '_i26',\n",
       " '_i27',\n",
       " '_i28',\n",
       " '_i3',\n",
       " '_i4',\n",
       " '_i5',\n",
       " '_i6',\n",
       " '_i7',\n",
       " '_i8',\n",
       " '_i9',\n",
       " '_ih',\n",
       " '_ii',\n",
       " '_iii',\n",
       " '_oh',\n",
       " '_sh',\n",
       " 'a',\n",
       " 'add',\n",
       " 'b',\n",
       " 'c',\n",
       " 'd',\n",
       " 'e',\n",
       " 'exit',\n",
       " 'f',\n",
       " 'g',\n",
       " 'get_ipython',\n",
       " 'i',\n",
       " 'quit',\n",
       " 'source',\n",
       " 't',\n",
       " 'urllib2']"
      ]
     },
     "execution_count": 28,
     "metadata": {},
     "output_type": "execute_result"
    }
   ],
   "source": [
    "dir()"
   ]
  },
  {
   "cell_type": "code",
   "execution_count": 29,
   "metadata": {
    "collapsed": false
   },
   "outputs": [
    {
     "data": {
      "text/plain": [
       "['__abs__',\n",
       " '__add__',\n",
       " '__and__',\n",
       " '__class__',\n",
       " '__cmp__',\n",
       " '__coerce__',\n",
       " '__delattr__',\n",
       " '__div__',\n",
       " '__divmod__',\n",
       " '__doc__',\n",
       " '__float__',\n",
       " '__floordiv__',\n",
       " '__format__',\n",
       " '__getattribute__',\n",
       " '__getnewargs__',\n",
       " '__hash__',\n",
       " '__hex__',\n",
       " '__index__',\n",
       " '__init__',\n",
       " '__int__',\n",
       " '__invert__',\n",
       " '__long__',\n",
       " '__lshift__',\n",
       " '__mod__',\n",
       " '__mul__',\n",
       " '__neg__',\n",
       " '__new__',\n",
       " '__nonzero__',\n",
       " '__oct__',\n",
       " '__or__',\n",
       " '__pos__',\n",
       " '__pow__',\n",
       " '__radd__',\n",
       " '__rand__',\n",
       " '__rdiv__',\n",
       " '__rdivmod__',\n",
       " '__reduce__',\n",
       " '__reduce_ex__',\n",
       " '__repr__',\n",
       " '__rfloordiv__',\n",
       " '__rlshift__',\n",
       " '__rmod__',\n",
       " '__rmul__',\n",
       " '__ror__',\n",
       " '__rpow__',\n",
       " '__rrshift__',\n",
       " '__rshift__',\n",
       " '__rsub__',\n",
       " '__rtruediv__',\n",
       " '__rxor__',\n",
       " '__setattr__',\n",
       " '__sizeof__',\n",
       " '__str__',\n",
       " '__sub__',\n",
       " '__subclasshook__',\n",
       " '__truediv__',\n",
       " '__trunc__',\n",
       " '__xor__',\n",
       " 'bit_length',\n",
       " 'conjugate',\n",
       " 'denominator',\n",
       " 'imag',\n",
       " 'numerator',\n",
       " 'real']"
      ]
     },
     "execution_count": 29,
     "metadata": {},
     "output_type": "execute_result"
    }
   ],
   "source": [
    "a = 1\n",
    "dir(a)"
   ]
  },
  {
   "cell_type": "code",
   "execution_count": 30,
   "metadata": {
    "collapsed": false
   },
   "outputs": [
    {
     "data": {
      "text/plain": [
       "1"
      ]
     },
     "execution_count": 30,
     "metadata": {},
     "output_type": "execute_result"
    }
   ],
   "source": [
    "a.bit_length()"
   ]
  },
  {
   "cell_type": "code",
   "execution_count": 31,
   "metadata": {
    "collapsed": false
   },
   "outputs": [
    {
     "data": {
      "text/plain": [
       "['__call__',\n",
       " '__class__',\n",
       " '__closure__',\n",
       " '__code__',\n",
       " '__defaults__',\n",
       " '__delattr__',\n",
       " '__dict__',\n",
       " '__doc__',\n",
       " '__format__',\n",
       " '__get__',\n",
       " '__getattribute__',\n",
       " '__globals__',\n",
       " '__hash__',\n",
       " '__init__',\n",
       " '__module__',\n",
       " '__name__',\n",
       " '__new__',\n",
       " '__reduce__',\n",
       " '__reduce_ex__',\n",
       " '__repr__',\n",
       " '__setattr__',\n",
       " '__sizeof__',\n",
       " '__str__',\n",
       " '__subclasshook__',\n",
       " 'func_closure',\n",
       " 'func_code',\n",
       " 'func_defaults',\n",
       " 'func_dict',\n",
       " 'func_doc',\n",
       " 'func_globals',\n",
       " 'func_name']"
      ]
     },
     "execution_count": 31,
     "metadata": {},
     "output_type": "execute_result"
    }
   ],
   "source": [
    "dir(add)"
   ]
  },
  {
   "cell_type": "code",
   "execution_count": 32,
   "metadata": {
    "collapsed": false
   },
   "outputs": [
    {
     "data": {
      "text/plain": [
       "u'\\n    \\ud568\\uc218\\uc124\\uba85 add(a, b) returns a+b\\n    \\ubb38\\uc11c \\ubb38\\uc790\\uc5f4 \\ud559\\uc2b5\\n    '"
      ]
     },
     "execution_count": 32,
     "metadata": {},
     "output_type": "execute_result"
    }
   ],
   "source": [
    "add.__doc__"
   ]
  },
  {
   "cell_type": "code",
   "execution_count": 33,
   "metadata": {
    "collapsed": false
   },
   "outputs": [
    {
     "name": "stdout",
     "output_type": "stream",
     "text": [
      "\n",
      "    함수설명 add(a, b) returns a+b\n",
      "    문서 문자열 학습\n",
      "    \n"
     ]
    }
   ],
   "source": [
    "print add.__doc__"
   ]
  },
  {
   "cell_type": "code",
   "execution_count": 36,
   "metadata": {
    "collapsed": false
   },
   "outputs": [
    {
     "name": "stdout",
     "output_type": "stream",
     "text": [
      "0123456789\n",
      "01234567\n",
      "0123456789abcdefABCDEF\n",
      "abcdefghijklmnopqrstuvwxyzABCDEFGHIJKLMNOPQRSTUVWXYZ\n",
      "abcdefghijklmnopqrstuvwxyz\n",
      "ABCDEFGHIJKLMNOPQRSTUVWXYZ\n",
      "!\"#$%&'()*+,-./:;<=>?@[\\]^_`{|}~\n",
      "\n",
      "0123456789abcdefghijklmnopqrstuvwxyzABCDEFGHIJKLMNOPQRSTUVWXYZ!\"#$%&'()*+,-./:;<=>?@[\\]^_`{|}~ \t\n",
      "\r",
      "\u000b",
      "\f",
      "\n",
      "\t\n",
      "\u000b",
      "\f",
      "\r",
      " \n"
     ]
    }
   ],
   "source": [
    "import string\n",
    "\n",
    "print string.digits # 숫자들\n",
    "print string.octdigits\n",
    "print string.hexdigits\n",
    "print string.letters # 문자들\n",
    "print string.lowercase\n",
    "print string.uppercase\n",
    "print string.punctuation   # 각종 기호들\n",
    "print\n",
    "print string.printable     # 인쇄 가능한 모든 문자들 \n",
    " #0123456789abcdefghijklmnopqrstuvwxyzABCDEFGHIJKLMNOPQRSTUVWXYZ!\"#$%&'()*+,-./:;<=>?@[\\]^_`{|}~\n",
    "print string.whitespace    # 공백 문자들 '\\011\\012\\013\\014\\015'"
   ]
  },
  {
   "cell_type": "code",
   "execution_count": 37,
   "metadata": {
    "collapsed": false
   },
   "outputs": [
    {
     "name": "stdout",
     "output_type": "stream",
     "text": [
      "False\n",
      "True\n"
     ]
    }
   ],
   "source": [
    "x = 'a'\n",
    "print x in string.uppercase # 대문자이니? x 가 uppercase안에 있니 없니?\n",
    "print x in string.lowercase # 소문자이니?"
   ]
  },
  {
   "cell_type": "code",
   "execution_count": 40,
   "metadata": {
    "collapsed": false
   },
   "outputs": [
    {
     "name": "stdout",
     "output_type": "stream",
     "text": [
      "abcdefghijklmnopqrstuvwxyzABCDEFGHIJKLMNOPQRSTUVWXYZ0123456789\n",
      "your id:asdf1234!\n",
      "invalid user id\n"
     ]
    }
   ],
   "source": [
    "d = string.letters + string.digits\n",
    "print d\n",
    "\n",
    "userid = raw_input('your id:')\n",
    "\n",
    "for ch in userid:\n",
    "    if ch not in d:\n",
    "        print 'invalid user id' #허용되지 않는 유저 아이디이다. 특수문자 안됭\n",
    "        break"
   ]
  },
  {
   "cell_type": "code",
   "execution_count": 41,
   "metadata": {
    "collapsed": false
   },
   "outputs": [
    {
     "name": "stdout",
     "output_type": "stream",
     "text": [
      "1.91299986839\n"
     ]
    }
   ],
   "source": [
    "import time\n",
    "start_time = time.time() #1970년 때부터 시간을 ms단위로 가져온거야.\n",
    "s = ' '\n",
    "for k in range(1000000):\n",
    "    s += 'python' # 백만번 합쳐져.\n",
    "end_time = time.time()\n",
    "#프로그램 수행된 시간 체크!  . 은 1초 912세컨드..\n",
    "print end_time - start_time"
   ]
  },
  {
   "cell_type": "code",
   "execution_count": 42,
   "metadata": {
    "collapsed": false
   },
   "outputs": [
    {
     "name": "stdout",
     "output_type": "stream",
     "text": [
      "0.230999946594\n"
     ]
    }
   ],
   "source": [
    "start_time = time.time()\n",
    "t = []\n",
    "for k in range(1000000):\n",
    "    t.append('python') # append 붙여 나간다. 파이썬이 계속 붙여지는거야 백만번\n",
    "s = ' '.join(t) # 하나로 합치는데 경계에 아무것도 없는거 \n",
    "end_time = time.time()\n",
    "print end_time - start_time"
   ]
  },
  {
   "cell_type": "code",
   "execution_count": 43,
   "metadata": {
    "collapsed": false
   },
   "outputs": [
    {
     "name": "stdout",
     "output_type": "stream",
     "text": [
      "0.00799989700317\n"
     ]
    }
   ],
   "source": [
    "start_time = time.time()\n",
    "s = 'python' * 1000000 #반복연산\n",
    "end_time = time.time()\n",
    "print end_time - start_time"
   ]
  },
  {
   "cell_type": "code",
   "execution_count": null,
   "metadata": {
    "collapsed": true
   },
   "outputs": [],
   "source": []
  }
 ],
 "metadata": {
  "kernelspec": {
   "display_name": "Python 2",
   "language": "python",
   "name": "python2"
  },
  "language_info": {
   "codemirror_mode": {
    "name": "ipython",
    "version": 2
   },
   "file_extension": ".py",
   "mimetype": "text/x-python",
   "name": "python",
   "nbconvert_exporter": "python",
   "pygments_lexer": "ipython2",
   "version": "2.7.9"
  }
 },
 "nbformat": 4,
 "nbformat_minor": 0
}
